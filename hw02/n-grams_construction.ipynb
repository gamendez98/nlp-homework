{
 "cells": [
  {
   "cell_type": "markdown",
   "metadata": {},
   "source": [
    "# N-gramas"
   ]
  },
  {
   "cell_type": "code",
   "execution_count": 1,
   "metadata": {},
   "outputs": [],
   "source": [
    "import nltk, pickle\n",
    "from collections import Counter\n",
    "from tqdm import tqdm"
   ]
  },
  {
   "cell_type": "markdown",
   "metadata": {},
   "source": [
    "Aca estaba generalizando las funciones ya existentes, pero calculan los gramas con base en todo el texto plano, y no por oración. Lo dejo comentado por si acaso, aunque hice otra que sí los calcula por oración. Creo que así tiene más sentido."
   ]
  },
  {
   "cell_type": "code",
   "execution_count": 2,
   "metadata": {},
   "outputs": [],
   "source": [
    "# def custom_tokenizer(text):\n",
    "#     import re\n",
    "#     \"\"\"\n",
    "#     Tokeniza un texto personalizado (para los casos de <s>, </s> y <UNK>).\n",
    "\n",
    "#     Args:\n",
    "#     text: El texto a tokenizar.\n",
    "\n",
    "#     Returns:\n",
    "#     Una lista de tokens.\n",
    "#     \"\"\"\n",
    "#     tokens = re.findall(r\"<[^>]+>|[\\w']+|[.,!?;]\", text)\n",
    "#     return tokens\n",
    "\n",
    "# def calculate_ngram_probabilities(corpus: str, n: int) -> Dict[Tuple[str, ...], float]:\n",
    "#     \"\"\"\n",
    "#     Calcula las probabilidades de n-gramas con suavizado de Laplace.\n",
    "\n",
    "#     Args:\n",
    "#         corpus: Lista de palabras.\n",
    "#         n: Tamaño del n-grama (1 para unigrama, 2 para bigrama, etc.).\n",
    "\n",
    "#     Returns:\n",
    "#         dict: Un diccionario con las probabilidades de n-gramas.\n",
    "#     \"\"\"    \n",
    "#     tokens = custom_tokenizer(corpus)\n",
    "#     # Unigrama\n",
    "#     if n == 1:\n",
    "#         unigrams = Counter(tokens)\n",
    "#         V = len(unigrams)  # Tamaño del vocabulario\n",
    "#         total_words_in_corpus = sum(unigrams.values())\n",
    "        \n",
    "#         # Suavizado de Laplace para unigramas\n",
    "#         probabilities = {\n",
    "#             (word,): (count + 1) / (total_words_in_corpus + V)\n",
    "#             for word, count in unigrams.items()\n",
    "#         }\n",
    "#         return probabilities\n",
    "\n",
    "#     # Para n-gramas donde n > 1\n",
    "#     ngrams_list = list(nltk.ngrams(tokens, n))\n",
    "#     ngrams = Counter(ngrams_list)\n",
    "\n",
    "#     # Para (n-1)-gramas (bigramas para trigramas)\n",
    "#     n_minus_1_grams_list = list(nltk.ngrams(tokens, n - 1))\n",
    "#     n_minus_1_grams_count = Counter(n_minus_1_grams_list)\n",
    "\n",
    "#     V = len(set(tokens))  # Tamaño del vocabulario\n",
    "\n",
    "#     # Suavizado de Laplace para n-gramas\n",
    "#     probabilities = {\n",
    "#         ngram: (count + 1) / (n_minus_1_grams_count[ngram[:-1]] + V)  # ngram[:-1] es el (n-1)-grama\n",
    "#         for ngram, count in ngrams.items()\n",
    "#     }\n",
    "\n",
    "#     return probabilities"
   ]
  },
  {
   "cell_type": "code",
   "execution_count": 3,
   "metadata": {},
   "outputs": [],
   "source": [
    "def read_and_tokenize(file_path):\n",
    "    \"\"\"\n",
    "    Lee un archivo de texto, tokeniza las oraciones y retorna una lista de listas de tokens.\n",
    "    \n",
    "    Args:\n",
    "        file_path: Ruta al archivo de texto.\n",
    "        \n",
    "    Returns:\n",
    "        Lista de listas de tokens (cada oración tokenizada).\n",
    "    \"\"\"\n",
    "    with open(file_path, 'r') as f:\n",
    "        text = f.read()\n",
    "\n",
    "    sentences = text.strip().split('\\n')\n",
    "    tokenized_sentences = [sentence.split() for sentence in sentences]\n",
    "    return tokenized_sentences\n",
    "\n",
    "\n",
    "def build_ngram_counts(tokenized_sentences, n):\n",
    "    \"\"\"\n",
    "    Cuenta los n-gramas de las oraciones tokenizadas usando nltk\n",
    "    \n",
    "    Args:\n",
    "        tokenized_sentences: Lista de listas de tokens.\n",
    "        n: Tamaño del n-grama.\n",
    "        \n",
    "    Returns:\n",
    "        Un diccionario con los conteos de n-gramas.\n",
    "    \"\"\"\n",
    "    ngram_counts = Counter()\n",
    "    \n",
    "    for sentence in tokenized_sentences:\n",
    "        ngrams = list(nltk.ngrams(sentence, n))\n",
    "        ngram_counts.update(ngrams)\n",
    "    \n",
    "    return ngram_counts\n",
    "\n",
    "\n",
    "def calculate_ngram_probabilities(tokenized_sentences, n):\n",
    "    \"\"\"\n",
    "    Calcula las probabilidades de n-gramas con suavizado de Laplace.\n",
    "    \n",
    "    Args:\n",
    "        tokenized_sentences: Lista de listas de tokens.\n",
    "        n: Tamaño del n-grama.\n",
    "        \n",
    "    Returns:\n",
    "        Diccionario con las probabilidades de los n-gramas.\n",
    "    \"\"\"\n",
    "    # Cuenta los n-gramas y de ser necesario los (n-1)-gramas, para bigramas y trigramas.\n",
    "    ngram_counts = build_ngram_counts(tokenized_sentences, n)\n",
    "    n_minus_1_gram_counts = build_ngram_counts(tokenized_sentences, n-1) if n > 1 else None\n",
    "\n",
    "    # Tamaño del vocabulario\n",
    "    vocabulary = set(token for sentence in tokenized_sentences for token in sentence)\n",
    "    vocab_size = len(vocabulary)\n",
    "\n",
    "    # Diccionario que representará nuestro modelo\n",
    "    ngram_probabilities = {}\n",
    "\n",
    "    for ngram, count in tqdm(ngram_counts.items(), desc=f\"Calculando {n}-gramas\"):\n",
    "        if n == 1:\n",
    "            # Para unigramas el conteo es sencillo\n",
    "            total_count = sum(ngram_counts.values())\n",
    "            ngram_probabilities[ngram] = (count + 1) / (total_count + vocab_size)\n",
    "        else:\n",
    "            # Para bigramas y trigramas hay que tener en cuenta el contexto\n",
    "            priori = ngram[:-1]\n",
    "            priori_count = n_minus_1_gram_counts[priori]\n",
    "            ngram_probabilities[ngram] = (count + 1) / (priori_count + vocab_size)\n",
    "    \n",
    "    return ngram_probabilities\n"
   ]
  },
  {
   "cell_type": "code",
   "execution_count": 4,
   "metadata": {},
   "outputs": [
    {
     "name": "stderr",
     "output_type": "stream",
     "text": [
      "Calculando 1-gramas: 100%|██████████| 60071/60071 [00:14<00:00, 4236.15it/s]\n",
      "Calculando 2-gramas: 100%|██████████| 883042/883042 [00:00<00:00, 1676883.01it/s]\n",
      "Calculando 3-gramas: 100%|██████████| 2002056/2002056 [00:01<00:00, 1353946.03it/s]\n"
     ]
    }
   ],
   "source": [
    "tokenized_sentences = read_and_tokenize('20N_training.txt')\n",
    "\n",
    "unigram_probs = calculate_ngram_probabilities(tokenized_sentences, 1)\n",
    "bigram_probs = calculate_ngram_probabilities(tokenized_sentences, 2)\n",
    "trigram_probs = calculate_ngram_probabilities(tokenized_sentences, 3)"
   ]
  },
  {
   "cell_type": "code",
   "execution_count": 5,
   "metadata": {},
   "outputs": [
    {
     "name": "stdout",
     "output_type": "stream",
     "text": [
      "Unigrams:\n",
      "('<s>',): 0.04523324268707575\n",
      "('does',): 0.0012653016987533416\n",
      "('anyone',): 0.0007652465680866085\n",
      "('have',): 0.005621682315234096\n",
      "('a',): 0.018972472517538957\n",
      "\n",
      "Bigrams:\n",
      "('<s>', 'does'): 0.0036281394694836237\n",
      "('does', 'anyone'): 0.011137933141844405\n",
      "('anyone', 'have'): 0.004848006316620608\n",
      "('have', 'a'): 0.03611488176037722\n",
      "('a', 'listing'): 0.00013497194004404348\n",
      "\n",
      "Trigrams:\n",
      "('<s>', 'does', 'anyone'): 0.008182205752139836\n",
      "('does', 'anyone', 'have'): 0.0033717659829931414\n",
      "('anyone', 'have', 'a'): 0.0010268810971065141\n",
      "('have', 'a', 'listing'): 3.1694214221193923e-05\n",
      "('a', 'listing', 'of'): 0.0002496297159213833\n"
     ]
    }
   ],
   "source": [
    "print(\"Unigrams:\")\n",
    "for unigram, prob in list(unigram_probs.items())[:5]:\n",
    "    print(f\"{unigram}: {prob}\")\n",
    "\n",
    "print(\"\\nBigrams:\")\n",
    "for bigram, prob in list(bigram_probs.items())[:5]:\n",
    "    print(f\"{bigram}: {prob}\")\n",
    "\n",
    "print(\"\\nTrigrams:\")\n",
    "for trigram, prob in list(trigram_probs.items())[:5]:\n",
    "    print(f\"{trigram}: {prob}\")"
   ]
  },
  {
   "cell_type": "code",
   "execution_count": 6,
   "metadata": {},
   "outputs": [],
   "source": [
    "def save_ngram_model(ngram_probabilities, filename):\n",
    "    with open(filename, 'wb') as file:\n",
    "        pickle.dump(ngram_probabilities, file)\n",
    "\n",
    "def load_ngram_model(filename):\n",
    "    with open(filename, 'rb') as file:\n",
    "        ngram_probabilities = pickle.load(file)\n",
    "    return ngram_probabilities"
   ]
  },
  {
   "cell_type": "markdown",
   "metadata": {},
   "source": [
    "Prefiero usar el formato `pickle` para guardar cosas en python."
   ]
  },
  {
   "cell_type": "code",
   "execution_count": 7,
   "metadata": {},
   "outputs": [],
   "source": [
    "save_ngram_model(unigram_probs, \"20N_bigrams.pkl\")\n",
    "save_ngram_model(bigram_probs, \"20N_bigrams.pkl\")\n",
    "save_ngram_model(trigram_probs, \"20N_trigrams.pkl\")"
   ]
  },
  {
   "cell_type": "code",
   "execution_count": 8,
   "metadata": {},
   "outputs": [
    {
     "ename": "KeyError",
     "evalue": "('</s>', '<s>')",
     "output_type": "error",
     "traceback": [
      "\u001b[1;31m---------------------------------------------------------------------------\u001b[0m",
      "\u001b[1;31mKeyError\u001b[0m                                  Traceback (most recent call last)",
      "Cell \u001b[1;32mIn[8], line 1\u001b[0m\n\u001b[1;32m----> 1\u001b[0m \u001b[43mbigram_probs\u001b[49m\u001b[43m[\u001b[49m\u001b[43m(\u001b[49m\u001b[38;5;124;43m\"\u001b[39;49m\u001b[38;5;124;43m</s>\u001b[39;49m\u001b[38;5;124;43m\"\u001b[39;49m\u001b[43m,\u001b[49m\u001b[43m \u001b[49m\u001b[38;5;124;43m\"\u001b[39;49m\u001b[38;5;124;43m<s>\u001b[39;49m\u001b[38;5;124;43m\"\u001b[39;49m\u001b[43m)\u001b[49m\u001b[43m]\u001b[49m \u001b[38;5;66;03m# Esto antes si se permitía, creo que no tiene sentido.\u001b[39;00m\n",
      "\u001b[1;31mKeyError\u001b[0m: ('</s>', '<s>')"
     ]
    }
   ],
   "source": [
    "bigram_probs[(\"</s>\", \"<s>\")] # Esto antes si se permitía, creo que no tiene sentido."
   ]
  },
  {
   "cell_type": "markdown",
   "metadata": {},
   "source": [
    "### Generando texto"
   ]
  },
  {
   "cell_type": "code",
   "execution_count": 9,
   "metadata": {},
   "outputs": [],
   "source": [
    "def generate_text(model, start_sentence, max_length=20, n=1):\n",
    "    \"\"\"\n",
    "    Genera texto usando el modelo n-grama basado en el n-grama de mayor probabilidad.\n",
    "\n",
    "    Args:\n",
    "        model: Diccionario de n-gramas con sus probabilidades.\n",
    "        start_sentence: Frase de inicio como string.\n",
    "        max_length: Longitud máxima de la oración generada.\n",
    "        n: Tamaño del n-grama (ej. 1 para unigramas).\n",
    "\n",
    "    Returns:\n",
    "        string: Oración generada.\n",
    "    \"\"\"\n",
    "    sentence = start_sentence.split()\n",
    "\n",
    "    if n == 1:\n",
    "        # Para unigramas, seleccionamos el token con la mayor probabilidad en cada paso\n",
    "        # En realidad no tiene sentido generar con unigramas\n",
    "        for _ in range(max_length):\n",
    "            next_token = max(model, key=model.get)\n",
    "            if next_token == '</s>':\n",
    "                break\n",
    "            sentence.append(next_token[0])\n",
    "    else:\n",
    "        # Para n-gramas donde n > 1\n",
    "        for _ in range(max_length):\n",
    "            if len(sentence) < n-1:\n",
    "                context = tuple(sentence)  # Usa toda la oración disponible\n",
    "            else:\n",
    "                context = tuple(sentence[-(n-1):])  # Toma los últimos n-1 tokens como contexto\n",
    "            \n",
    "            # Buscar las posibles continuaciones en el modelo\n",
    "            possible_ngrams = [ngram for ngram in model if ngram[:-1] == context]\n",
    "            \n",
    "            if not possible_ngrams:\n",
    "                break\n",
    "            \n",
    "            next_token = max(possible_ngrams, key=lambda ngram: model[ngram])[-1]\n",
    "            \n",
    "            if next_token == '</s>':\n",
    "                break\n",
    "            sentence.append(next_token)\n",
    "    \n",
    "    return ' '.join(sentence)"
   ]
  },
  {
   "cell_type": "code",
   "execution_count": 10,
   "metadata": {},
   "outputs": [
    {
     "data": {
      "text/plain": [
       "'<s> hi i am not sure if this is a good idea to have a NUM a NUM a NUM a NUM a NUM a NUM a NUM a NUM a NUM a NUM a NUM a NUM a NUM a NUM a NUM a NUM a NUM a NUM a NUM'"
      ]
     },
     "execution_count": 10,
     "metadata": {},
     "output_type": "execute_result"
    }
   ],
   "source": [
    "generate_text(trigram_probs, \"<s> hi\", max_length= 50, n = 3)"
   ]
  },
  {
   "cell_type": "code",
   "execution_count": 11,
   "metadata": {},
   "outputs": [
    {
     "data": {
      "text/plain": [
       "'<s> NUM NUM NUM NUM NUM NUM NUM NUM NUM NUM NUM NUM NUM NUM NUM NUM NUM NUM NUM NUM NUM NUM NUM NUM NUM NUM NUM NUM NUM NUM NUM NUM NUM NUM NUM NUM NUM NUM NUM NUM NUM NUM NUM NUM NUM NUM NUM NUM NUM NUM'"
      ]
     },
     "execution_count": 11,
     "metadata": {},
     "output_type": "execute_result"
    }
   ],
   "source": [
    "generate_text(unigram_probs, \"<s>\", max_length= 50, n = 1)\n",
    "# Obviamente generar con unigramas no tiene sentido."
   ]
  },
  {
   "cell_type": "code",
   "execution_count": 12,
   "metadata": {},
   "outputs": [],
   "source": [
    "import math\n",
    "\n",
    "def calculate_perplexity_log(model, test_sentences, n):\n",
    "    total_log_prob = 0\n",
    "    total_ngrams = 0\n",
    "    \n",
    "    for sentence in test_sentences:\n",
    "        sentence_log_prob = 0\n",
    "        ngram_count = 0\n",
    "        \n",
    "        n_grams = list(nltk.ngrams(sentence,n))\n",
    "\n",
    "        for ngram in n_grams:            \n",
    "            if ngram in model:\n",
    "                prob = model[ngram]\n",
    "            else:\n",
    "                prob = 1e-10\n",
    "            \n",
    "            sentence_log_prob += math.log(prob)\n",
    "            ngram_count += 1\n",
    "        \n",
    "        total_log_prob += sentence_log_prob\n",
    "        total_ngrams += ngram_count\n",
    "    \n",
    "    avg_log_prob = total_log_prob / total_ngrams\n",
    "    perplexity = math.exp(-avg_log_prob)\n",
    "    \n",
    "    return perplexity"
   ]
  },
  {
   "cell_type": "code",
   "execution_count": 13,
   "metadata": {},
   "outputs": [],
   "source": [
    "test_sentences = read_and_tokenize(\"20N_testing.txt\")"
   ]
  },
  {
   "cell_type": "code",
   "execution_count": 14,
   "metadata": {},
   "outputs": [
    {
     "name": "stdout",
     "output_type": "stream",
     "text": [
      "Perplejidad del modelo de trigramas: 1421914.8987478605\n"
     ]
    }
   ],
   "source": [
    "perplexity = calculate_perplexity_log(trigram_probs, test_sentences, n=3)\n",
    "print(f'Perplejidad del modelo de trigramas: {perplexity}')"
   ]
  },
  {
   "cell_type": "code",
   "execution_count": 15,
   "metadata": {},
   "outputs": [
    {
     "name": "stdout",
     "output_type": "stream",
     "text": [
      "Perplejidad del modelo de bigramas: 11099.948099774296\n"
     ]
    }
   ],
   "source": [
    "perplexity = calculate_perplexity_log(bigram_probs, test_sentences, n=2) \n",
    "print(f'Perplejidad del modelo de bigramas: {perplexity}')"
   ]
  },
  {
   "cell_type": "code",
   "execution_count": 16,
   "metadata": {},
   "outputs": [
    {
     "name": "stdout",
     "output_type": "stream",
     "text": [
      "Perplejidad del modelo de unigramas: 957.6217625396342\n"
     ]
    }
   ],
   "source": [
    "perplexity = calculate_perplexity_log(unigram_probs, test_sentences, n=1)\n",
    "print(f'Perplejidad del modelo de unigramas: {perplexity}')"
   ]
  }
 ],
 "metadata": {
  "kernelspec": {
   "display_name": "Python 3",
   "language": "python",
   "name": "python3"
  },
  "language_info": {
   "codemirror_mode": {
    "name": "ipython",
    "version": 3
   },
   "file_extension": ".py",
   "mimetype": "text/x-python",
   "name": "python",
   "nbconvert_exporter": "python",
   "pygments_lexer": "ipython3",
   "version": "3.11.9"
  }
 },
 "nbformat": 4,
 "nbformat_minor": 2
}
