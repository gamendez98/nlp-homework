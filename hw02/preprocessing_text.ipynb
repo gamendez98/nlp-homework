{
 "cells": [
  {
   "cell_type": "markdown",
   "metadata": {},
   "source": [
    "# Preprocesamiento de texto"
   ]
  },
  {
   "cell_type": "markdown",
   "metadata": {},
   "source": [
    "Primero, importamos librerías."
   ]
  },
  {
   "cell_type": "code",
   "execution_count": 1,
   "metadata": {},
   "outputs": [
    {
     "name": "stderr",
     "output_type": "stream",
     "text": [
      "[nltk_data] Downloading package punkt to\n",
      "[nltk_data]     C:\\Users\\PC\\AppData\\Roaming\\nltk_data...\n",
      "[nltk_data]   Package punkt is already up-to-date!\n",
      "[nltk_data] Downloading package punkt_tab to\n",
      "[nltk_data]     C:\\Users\\PC\\AppData\\Roaming\\nltk_data...\n",
      "[nltk_data]   Package punkt_tab is already up-to-date!\n"
     ]
    },
    {
     "data": {
      "text/plain": [
       "True"
      ]
     },
     "execution_count": 1,
     "metadata": {},
     "output_type": "execute_result"
    }
   ],
   "source": [
    "import re, random\n",
    "from typing import List\n",
    "from collections import Counter\n",
    "from tqdm.notebook import tqdm\n",
    "import nltk\n",
    "from nltk import word_tokenize, sent_tokenize\n",
    "\n",
    "from sklearn.model_selection import train_test_split\n",
    "\n",
    "# Descargar recursos necesarios de NLTK\n",
    "nltk.download('punkt')  # Tokenizador\n",
    "\n",
    "# Configuración de NLTK\n",
    "nltk.download('punkt_tab')"
   ]
  },
  {
   "cell_type": "markdown",
   "metadata": {},
   "source": [
    "## Preprocesamiento de texto"
   ]
  },
  {
   "cell_type": "code",
   "execution_count": 2,
   "metadata": {},
   "outputs": [],
   "source": [
    "def preprocess_text(file_path: str) -> List[str]:\n",
    "    \"\"\"\n",
    "    Procesa el texto de la ruta especificada, aplicando lo siguiente:\n",
    "\n",
    "    - Tokenización por oración\n",
    "    - Normalización\n",
    "    - Reemplaza números por NUM\n",
    "    - Añade tokens de inicio y finalización de oración <s> y </s>\n",
    "    - Tokens con frecuencia unitaria se marcan como <UNK>\n",
    "\n",
    "    Args:\n",
    "        path (str): Ruta en la que leer el archivo de texto.\n",
    "\n",
    "    Returns:\n",
    "        List[str]: Listado de oraciones preprocesadas.\n",
    "    \"\"\"\n",
    "    # Leer el archivo de texto línea por línea\n",
    "    with open(file_path, 'r', encoding='utf-8') as file:\n",
    "        lines = file.readlines()\n",
    "\n",
    "    sentences = []\n",
    "    for line in lines:\n",
    "        # Dividir cada línea en oraciones\n",
    "        line_sentences = sent_tokenize(line.strip())\n",
    "        sentences.extend(line_sentences)\n",
    "    \n",
    "    # Listas donde guardar tokens y oraciones procesadas\n",
    "    all_tokens = []\n",
    "    processed_sentences = []\n",
    "    \n",
    "    # Para cada oración...\n",
    "    for sentence in tqdm(sentences, desc=\"Procesando oraciones...\"):\n",
    "\n",
    "        # Pasar a minúsculas\n",
    "        sentence = sentence.lower()\n",
    "        \n",
    "        # Separar números de letras (e.g. 9am -> 9 am)\n",
    "        sentence = re.sub(r'(\\d+)([a-zA-Z])', r'\\1 \\2', sentence)\n",
    "        sentence = re.sub(r'([a-zA-Z])(\\d+)', r'\\1 \\2', sentence)\n",
    "        \n",
    "        # Reemplazar números por el token NUM\n",
    "        sentence = re.sub(r'\\d+', 'NUM', sentence)\n",
    "        \n",
    "        # Eliminar puntuación y caracteres especiales\n",
    "        sentence = re.sub(r'[^\\w\\s]', ' ', sentence)\n",
    "        \n",
    "        # Tokenizar palabras con nltk\n",
    "        tokens = word_tokenize(sentence)\n",
    "        \n",
    "        # Añadir tokens de inicio y finalización\n",
    "        tokens = ['<s>'] + tokens + ['</s>']\n",
    "        \n",
    "        # Agregar a las listas predefinidas si no es una oración vacía\n",
    "        if len(tokens) > 2:\n",
    "            all_tokens.extend(tokens)\n",
    "            processed_sentences.append(tokens)\n",
    "    \n",
    "    # Contar la frecuencia de los tokens\n",
    "    token_freq = Counter(all_tokens)\n",
    "    \n",
    "    # Reemplazar tokens de frecuencia unitaria con <UNK>\n",
    "    final_sentences = []\n",
    "    for tokens in processed_sentences:\n",
    "        final_tokens = [token if token_freq[token] > 1 else '<UNK>' for token in tokens]\n",
    "        final_sentences.append(final_tokens)\n",
    "    \n",
    "    return final_sentences"
   ]
  },
  {
   "cell_type": "code",
   "execution_count": 3,
   "metadata": {},
   "outputs": [
    {
     "data": {
      "application/vnd.jupyter.widget-view+json": {
       "model_id": "6165febfeb71469c8df877c515440592",
       "version_major": 2,
       "version_minor": 0
      },
      "text/plain": [
       "Procesando oraciones...:   0%|          | 0/242822 [00:00<?, ?it/s]"
      ]
     },
     "metadata": {},
     "output_type": "display_data"
    }
   ],
   "source": [
    "final_sentences_news = preprocess_text('consolidated_news.txt')\n",
    "with open('processed_news.txt', 'w', encoding='utf-8') as output_file:\n",
    "    for sentence in final_sentences_news:\n",
    "        output_file.write(' '.join(sentence) + '\\n')"
   ]
  },
  {
   "cell_type": "code",
   "execution_count": 4,
   "metadata": {},
   "outputs": [
    {
     "data": {
      "application/vnd.jupyter.widget-view+json": {
       "model_id": "87256f3e71254942a55f8b5ad93e6391",
       "version_major": 2,
       "version_minor": 0
      },
      "text/plain": [
       "Procesando oraciones...:   0%|          | 0/7144331 [00:00<?, ?it/s]"
      ]
     },
     "metadata": {},
     "output_type": "display_data"
    }
   ],
   "source": [
    "final_sentences_bac = preprocess_text('consolidated_bac.txt')\n",
    "with open('processed_bac.txt', 'w', encoding='utf-8') as output_file:\n",
    "    for sentence in final_sentences_bac:\n",
    "        output_file.write(' '.join(sentence) + '\\n')"
   ]
  },
  {
   "cell_type": "code",
   "execution_count": 5,
   "metadata": {},
   "outputs": [
    {
     "data": {
      "text/plain": [
       "(240500, 7088707)"
      ]
     },
     "execution_count": 5,
     "metadata": {},
     "output_type": "execute_result"
    }
   ],
   "source": [
    "len(final_sentences_news), len(final_sentences_bac)"
   ]
  },
  {
   "cell_type": "code",
   "execution_count": 6,
   "metadata": {},
   "outputs": [],
   "source": [
    "def generate_training_testing(final_sentences: List[str], filename: str) -> None:\n",
    "    sents = final_sentences.copy()\n",
    "    random.shuffle(sents)\n",
    "\n",
    "    # Determinar el punto de separación para 80-20\n",
    "    split_index = int(0.8 * len(sents))\n",
    "\n",
    "    # Separar en conjuntos de entrenamiento y prueba\n",
    "    training_sentences = sents[:split_index]\n",
    "    testing_sentences = sents[split_index:]\n",
    "\n",
    "    # Guardar las oraciones de entrenamiento en un archivo txt\n",
    "    with open(f'{filename}_training.txt', 'w', encoding='utf-8') as training_file:\n",
    "        for sentence in training_sentences:\n",
    "            training_file.write(' '.join(sentence) + '\\n')\n",
    "\n",
    "    # Guardar las oraciones de prueba en un archivo txt\n",
    "    with open(f'{filename}_testing.txt', 'w', encoding='utf-8') as testing_file:\n",
    "        for sentence in testing_sentences:\n",
    "            testing_file.write(' '.join(sentence) + '\\n')"
   ]
  },
  {
   "cell_type": "code",
   "execution_count": 7,
   "metadata": {},
   "outputs": [],
   "source": [
    "generate_training_testing(final_sentences_news, \"20N\")\n",
    "generate_training_testing(final_sentences_bac, \"BAC\")"
   ]
  }
 ],
 "metadata": {
  "kernelspec": {
   "display_name": "Python 3",
   "language": "python",
   "name": "python3"
  },
  "language_info": {
   "codemirror_mode": {
    "name": "ipython",
    "version": 3
   },
   "file_extension": ".py",
   "mimetype": "text/x-python",
   "name": "python",
   "nbconvert_exporter": "python",
   "pygments_lexer": "ipython3",
   "version": "3.11.9"
  }
 },
 "nbformat": 4,
 "nbformat_minor": 2
}
