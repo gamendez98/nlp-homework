{
 "cells": [
  {
   "cell_type": "markdown",
   "metadata": {},
   "source": [
    "## Implementación de métricas de evaluación de IR"
   ]
  },
  {
   "cell_type": "code",
   "metadata": {
    "ExecuteTime": {
     "end_time": "2024-08-28T00:16:23.845035Z",
     "start_time": "2024-08-28T00:16:22.563886Z"
    }
   },
   "source": [
    "from pathlib import Path\n",
    "\n",
    "import numpy as np\n",
    "from typing import List\n",
    "import seaborn as sns\n",
    "from matplotlib import pyplot as plt\n",
    "\n",
    "import pandas as pd"
   ],
   "outputs": [],
   "execution_count": 3
  },
  {
   "cell_type": "markdown",
   "metadata": {},
   "source": [
    "### Precision\n",
    "\n",
    "Se define como la proporción de documentos recuperados (RET) que son relevantes (REL).\n",
    "\n",
    "$\\mathcal{P} = \\frac{|\\text{RET} \\: \\cap \\: \\text{REL}|}{|\\text{RET}|}$"
   ]
  },
  {
   "cell_type": "code",
   "metadata": {
    "ExecuteTime": {
     "end_time": "2024-08-28T00:16:23.863353Z",
     "start_time": "2024-08-28T00:16:23.857766Z"
    }
   },
   "source": [
    "def precision(relevance_query: List[int]):\n",
    "    assert set(relevance_query).issubset((0, 1)), \"Only binary values (0, 1) allowed.\"\n",
    "\n",
    "    return sum(relevance_query) / len(relevance_query)"
   ],
   "outputs": [],
   "execution_count": 4
  },
  {
   "cell_type": "code",
   "metadata": {
    "ExecuteTime": {
     "end_time": "2024-08-28T00:16:23.919169Z",
     "start_time": "2024-08-28T00:16:23.914204Z"
    }
   },
   "source": [
    "precision([0, 0, 0, 1])"
   ],
   "outputs": [
    {
     "data": {
      "text/plain": [
       "0.25"
      ]
     },
     "execution_count": 5,
     "metadata": {},
     "output_type": "execute_result"
    }
   ],
   "execution_count": 5
  },
  {
   "cell_type": "markdown",
   "metadata": {},
   "source": [
    "### Precision at K\n",
    "\n",
    "Se define como la proporción de documentos top-K recuperados que son relevantes."
   ]
  },
  {
   "cell_type": "code",
   "metadata": {
    "ExecuteTime": {
     "end_time": "2024-08-28T00:16:24.031541Z",
     "start_time": "2024-08-28T00:16:24.028633Z"
    }
   },
   "source": [
    "def precision_at_k(relevance_query: List[int], k: int):\n",
    "    assert set(relevance_query).issubset((0, 1)), \"Only binary values (0, 1) allowed.\"\n",
    "    assert k > 0, \"K must be greater or equal than 1.\"\n",
    "\n",
    "    return sum(relevance_query[:k]) / len(relevance_query[:k])"
   ],
   "outputs": [],
   "execution_count": 6
  },
  {
   "cell_type": "code",
   "metadata": {
    "ExecuteTime": {
     "end_time": "2024-08-28T00:16:24.086068Z",
     "start_time": "2024-08-28T00:16:24.082798Z"
    }
   },
   "source": [
    "precision_at_k([0, 0, 0, 1], 1)"
   ],
   "outputs": [
    {
     "data": {
      "text/plain": [
       "0.0"
      ]
     },
     "execution_count": 7,
     "metadata": {},
     "output_type": "execute_result"
    }
   ],
   "execution_count": 7
  },
  {
   "cell_type": "markdown",
   "metadata": {},
   "source": [
    "### Recall at K\n",
    "\n",
    "Se define como la proporción de documentos relevantes que se recuperan en el top K."
   ]
  },
  {
   "cell_type": "code",
   "metadata": {
    "ExecuteTime": {
     "end_time": "2024-08-28T00:16:24.140912Z",
     "start_time": "2024-08-28T00:16:24.137872Z"
    }
   },
   "source": [
    "def recall_at_k(relevance_query: List[int], k: int, num_relevant_docs: int):\n",
    "    assert set(relevance_query).issubset((0, 1)), \"Only binary values (0, 1) allowed.\"\n",
    "    assert k > 0, \"K must be greater or equal than 1.\"\n",
    "    assert num_relevant_docs > 0, \"Number of relevant docs must be greater or equal than 1.\"\n",
    "\n",
    "    return sum(relevance_query[:k]) / num_relevant_docs"
   ],
   "outputs": [],
   "execution_count": 8
  },
  {
   "cell_type": "code",
   "metadata": {
    "ExecuteTime": {
     "end_time": "2024-08-28T00:16:24.193704Z",
     "start_time": "2024-08-28T00:16:24.189714Z"
    }
   },
   "source": [
    "recall_at_k([0, 0, 0, 1], 1, 4)"
   ],
   "outputs": [
    {
     "data": {
      "text/plain": [
       "0.0"
      ]
     },
     "execution_count": 9,
     "metadata": {},
     "output_type": "execute_result"
    }
   ],
   "execution_count": 9
  },
  {
   "cell_type": "markdown",
   "metadata": {},
   "source": [
    "### Average precision\n",
    "\n",
    "Se define como el promedio de los **Precision at K**, calculados de manera iterativa al aumentar iterativamente **K** cada vez que se encuentra un documento relevante. El cálculo se detiene cuando se obtiene un **recall** de 1."
   ]
  },
  {
   "cell_type": "code",
   "metadata": {
    "ExecuteTime": {
     "end_time": "2024-08-28T00:16:24.250747Z",
     "start_time": "2024-08-28T00:16:24.247331Z"
    }
   },
   "source": [
    "def average_precision(relevance_query: List[int]):\n",
    "    assert set(relevance_query).issubset((0, 1)), \"Only binary values (0, 1) allowed.\"\n",
    "\n",
    "    cumulative_precision = 0\n",
    "    relevant_count = 0\n",
    "\n",
    "    for observation_count, relevance in enumerate(relevance_query, 1):\n",
    "        if relevance:\n",
    "            relevant_count += 1\n",
    "            cumulative_precision += relevant_count / observation_count\n",
    "\n",
    "    return cumulative_precision / relevant_count"
   ],
   "outputs": [],
   "execution_count": 10
  },
  {
   "cell_type": "code",
   "metadata": {
    "ExecuteTime": {
     "end_time": "2024-08-28T00:16:24.304506Z",
     "start_time": "2024-08-28T00:16:24.300485Z"
    }
   },
   "source": [
    "average_precision([0, 1, 0, 1, 1, 1, 1])"
   ],
   "outputs": [
    {
     "data": {
      "text/plain": [
       "0.5961904761904762"
      ]
     },
     "execution_count": 11,
     "metadata": {},
     "output_type": "execute_result"
    }
   ],
   "execution_count": 11
  },
  {
   "cell_type": "markdown",
   "metadata": {},
   "source": [
    "### Mean Average Precision (MAP)\n",
    "\n",
    "Promedio de calcular el **Average Precision** para varias consultas."
   ]
  },
  {
   "cell_type": "code",
   "metadata": {
    "ExecuteTime": {
     "end_time": "2024-08-28T00:16:24.357274Z",
     "start_time": "2024-08-28T00:16:24.353862Z"
    }
   },
   "source": [
    "def mean_average_precision(relevance_queries: List[List[int]]):\n",
    "    assert all(set(sublist).issubset((0, 1)) for sublist in\n",
    "               relevance_queries), \"Only binary values (0, 1) allowed in all query results.\"\n",
    "\n",
    "    return sum(average_precision(relevance_query) for relevance_query in relevance_queries) / len(relevance_queries)"
   ],
   "outputs": [],
   "execution_count": 12
  },
  {
   "cell_type": "code",
   "metadata": {
    "ExecuteTime": {
     "end_time": "2024-08-28T00:16:24.409258Z",
     "start_time": "2024-08-28T00:16:24.405213Z"
    }
   },
   "source": [
    "mean_average_precision([[1, 0, 1], [0, 1, 1]])"
   ],
   "outputs": [
    {
     "data": {
      "text/plain": [
       "0.7083333333333333"
      ]
     },
     "execution_count": 13,
     "metadata": {},
     "output_type": "execute_result"
    }
   ],
   "execution_count": 13
  },
  {
   "cell_type": "markdown",
   "metadata": {},
   "source": [
    "### Discounted Cumulative Gain at K\n",
    "\n",
    "Sea $\\text{REL}_i$ la relevancia asociada con el documento en el rango $i$, $1 \\leq i \\leq K$. Definimos:\n",
    "\n",
    "$\\text{DGG@K} = \\sum_{i = 1}^{K} \\frac{\\text{REL}_i}{\\log_2 (\\max (i,\\: 2))}$"
   ]
  },
  {
   "cell_type": "code",
   "metadata": {
    "ExecuteTime": {
     "end_time": "2024-08-28T00:16:24.461741Z",
     "start_time": "2024-08-28T00:16:24.458502Z"
    }
   },
   "source": [
    "def discounted_cumulative_gain(relevance_query: List[int], k: int):\n",
    "    assert all(x >= 0 for x in relevance_query), \"All elements must be integers greater than or equal to 0.\"\n",
    "    assert k > 0, \"K must be greater or equal than 1.\"\n",
    "\n",
    "    return sum(relevance / np.log2(max(i, 2)) for i, relevance in enumerate(relevance_query[:k], 1))"
   ],
   "outputs": [],
   "execution_count": 14
  },
  {
   "cell_type": "code",
   "metadata": {
    "ExecuteTime": {
     "end_time": "2024-08-28T00:16:24.517665Z",
     "start_time": "2024-08-28T00:16:24.513717Z"
    }
   },
   "source": [
    "discounted_cumulative_gain([4, 4, 3, 0, 0, 1, 3, 3, 3, 0], 6)"
   ],
   "outputs": [
    {
     "data": {
      "text/plain": [
       "10.279642067948915"
      ]
     },
     "execution_count": 15,
     "metadata": {},
     "output_type": "execute_result"
    }
   ],
   "execution_count": 15
  },
  {
   "cell_type": "markdown",
   "metadata": {},
   "source": [
    "### Normalized Discounted Cumulative Gain at K\n",
    "\n",
    "Dada la DGG@K de una consulta, se divide entre el mejor DGG@K posible para esa consulta."
   ]
  },
  {
   "cell_type": "code",
   "metadata": {
    "ExecuteTime": {
     "end_time": "2024-08-28T00:16:24.582266Z",
     "start_time": "2024-08-28T00:16:24.579201Z"
    }
   },
   "source": [
    "def normalized_discounted_cumulative_gain(relevance_query: List[int], k: int):\n",
    "    assert all(x >= 0 for x in relevance_query), \"All elements must be integers greater than or equal to 0.\"\n",
    "    assert k > 0, \"K must be greater or equal than 1.\"\n",
    "\n",
    "    rq = relevance_query.copy()\n",
    "    rq.sort(reverse=True)\n",
    "    return discounted_cumulative_gain(relevance_query, k) / discounted_cumulative_gain(rq, k)"
   ],
   "outputs": [],
   "execution_count": 16
  },
  {
   "cell_type": "code",
   "metadata": {
    "ExecuteTime": {
     "end_time": "2024-08-28T00:16:24.629908Z",
     "start_time": "2024-08-28T00:16:24.627180Z"
    }
   },
   "source": "normalized_discounted_cumulative_gain([4, 4, 3, 0, 0, 1, 3, 3, 3, 0], 6)",
   "outputs": [
    {
     "data": {
      "text/plain": [
       "0.7424602308163405"
      ]
     },
     "execution_count": 17,
     "metadata": {},
     "output_type": "execute_result"
    }
   ],
   "execution_count": 17
  },
  {
   "metadata": {},
   "cell_type": "markdown",
   "source": [
    "## Query evaluation\n",
    "\n"
   ]
  },
  {
   "metadata": {},
   "cell_type": "markdown",
   "source": ""
  },
  {
   "metadata": {
    "ExecuteTime": {
     "end_time": "2024-08-28T00:16:24.691249Z",
     "start_time": "2024-08-28T00:16:24.686002Z"
    }
   },
   "cell_type": "code",
   "source": [
    "def read_query_search_file(result_path: Path):\n",
    "    results = {}\n",
    "    with open(result_path, \"r\") as f_expert:\n",
    "        for line in f_expert:\n",
    "            query_name, query_results_text = line.split('\\t')\n",
    "            query_results = {}\n",
    "            for result_text in query_results_text.split(','):\n",
    "                doc_name, relevance = result_text.split(':')\n",
    "                relevance = float(relevance)\n",
    "                query_results[doc_name] = relevance\n",
    "            results[query_name] = query_results\n",
    "    return results\n",
    "\n",
    "\n",
    "def plot_distribution(values: List[float], variable_name: str):\n",
    "    sns.histplot(values, bins=30, kde=True)\n",
    "    plt.title(f'Distribution of {variable_name}')\n",
    "    plt.xlabel(variable_name)\n",
    "    plt.ylabel('Frequency')\n",
    "    plt.show()\n",
    "\n",
    "def query_evaluation_metrics(expert_result_path: Path, model_result_path: Path):\n",
    "    expert_results = read_query_search_file(expert_result_path)\n",
    "    model_results = read_query_search_file(model_result_path)\n",
    "    ms = []\n",
    "    P_m = []\n",
    "    R_m = []\n",
    "    nDCG_m = []\n",
    "    binary_queries = []\n",
    "    for query in model_results:\n",
    "        if query in expert_results:\n",
    "            query_expert_relevant_documents = expert_results[query]\n",
    "            query_model_relevant_documents = model_results[query]\n",
    "            m = len(query_expert_relevant_documents)\n",
    "            binary_relevance_query = [int(doc in query_expert_relevant_documents) for doc in query_model_relevant_documents]\n",
    "            gain_relevance_query = [query_expert_relevant_documents.get(doc, 0) for doc in query_model_relevant_documents]\n",
    "            ms.append(m)\n",
    "            P_m.append(precision_at_k(binary_relevance_query, m))\n",
    "            R_m.append(recall_at_k(binary_relevance_query, m, len(query_expert_relevant_documents)))\n",
    "            nDCG_m.append(normalized_discounted_cumulative_gain(gain_relevance_query, m))\n",
    "            binary_queries.append(binary_relevance_query)\n",
    "    print(mean_average_precision(binary_queries))\n",
    "    plot_distribution(ms, 'm')\n",
    "    plot_distribution(P_m, 'P_m')\n",
    "    plot_distribution(R_m, 'R_m')\n",
    "    plot_distribution(nDCG_m, 'nDCG_m')\n",
    "    \n",
    "    \n"
   ],
   "outputs": [],
   "execution_count": 18
  },
  {
   "metadata": {
    "ExecuteTime": {
     "end_time": "2024-08-28T00:16:33.303008Z",
     "start_time": "2024-08-28T00:16:24.731600Z"
    }
   },
   "cell_type": "code",
   "source": [
    "%run ranked_recovery.ipynb\n",
    "%run inverted_index.ipynb"
   ],
   "outputs": [
    {
     "name": "stderr",
     "output_type": "stream",
     "text": [
      "[nltk_data] Downloading package punkt to /home/gustavo/nltk_data...\n",
      "[nltk_data]   Unzipping tokenizers/punkt.zip.\n",
      "[nltk_data] Downloading package stopwords to\n",
      "[nltk_data]     /home/gustavo/nltk_data...\n",
      "[nltk_data]   Package stopwords is already up-to-date!\n",
      "[nltk_data] Downloading package punkt_tab to\n",
      "[nltk_data]     /home/gustavo/nltk_data...\n",
      "[nltk_data]   Package punkt_tab is already up-to-date!\n",
      "[nltk_data] Downloading package punkt to /home/gustavo/nltk_data...\n",
      "[nltk_data]   Package punkt is already up-to-date!\n",
      "[nltk_data] Downloading package stopwords to\n",
      "[nltk_data]     /home/gustavo/nltk_data...\n",
      "[nltk_data]   Package stopwords is already up-to-date!\n",
      "[nltk_data] Downloading package punkt_tab to\n",
      "[nltk_data]     /home/gustavo/nltk_data...\n",
      "[nltk_data]   Package punkt_tab is already up-to-date!\n"
     ]
    }
   ],
   "execution_count": 19
  },
  {
   "metadata": {
    "ExecuteTime": {
     "end_time": "2024-08-28T00:17:27.720347Z",
     "start_time": "2024-08-28T00:17:27.217430Z"
    }
   },
   "cell_type": "code",
   "source": [
    "expert_results_path = 'data/relevance-judgments.tsv'\n",
    "rrdv_results_path = 'data/RRDV-consultas_resultado'\n",
    "query_evaluation_metrics(rrdv_results_path, expert_results_path)"
   ],
   "outputs": [
    {
     "name": "stdout",
     "output_type": "stream",
     "text": [
      "0.9576222428365284\n"
     ]
    },
    {
     "data": {
      "text/plain": [
       "<Figure size 640x480 with 1 Axes>"
      ],
      "image/png": "[encoded data removed]"
     },
     "metadata": {},
     "output_type": "display_data"
    },
    {
     "data": {
      "text/plain": [
       "<Figure size 640x480 with 1 Axes>"
      ],
      "image/png": "[encoded data removed]"
     },
     "metadata": {},
     "output_type": "display_data"
    },
    {
     "data": {
      "text/plain": [
       "<Figure size 640x480 with 1 Axes>"
      ],
      "image/png": "[encoded data removed]"
     },
     "metadata": {},
     "output_type": "display_data"
    },
    {
     "data": {
      "text/plain": [
       "<Figure size 640x480 with 1 Axes>"
      ],
      "image/png": "[encoded data removed]"
     },
     "metadata": {},
     "output_type": "display_data"
    }
   ],
   "execution_count": 21
  }
 ],
 "metadata": {
  "kernelspec": {
   "display_name": "Python 3",
   "language": "python",
   "name": "python3"
  },
  "language_info": {
   "codemirror_mode": {
    "name": "ipython",
    "version": 3
   },
   "file_extension": ".py",
   "mimetype": "text/x-python",
   "name": "python",
   "nbconvert_exporter": "python",
   "pygments_lexer": "ipython3",
   "version": "3.11.9"
  }
 },
 "nbformat": 4,
 "nbformat_minor": 2
}
