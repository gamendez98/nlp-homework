{
 "cells": [
  {
   "cell_type": "code",
   "id": "initial_id",
   "metadata": {
    "collapsed": true,
    "ExecuteTime": {
     "end_time": "2024-08-22T21:29:15.109590Z",
     "start_time": "2024-08-22T21:29:14.162670Z"
    }
   },
   "source": [
    "import os\n",
    "from pathlib import Path\n",
    "\n",
    "import numpy as np\n",
    "from nltk.corpus import stopwords\n",
    "from nltk.stem import PorterStemmer\n",
    "from nltk.tokenize import word_tokenize\n",
    "import nltk\n",
    "from collections import Counter\n",
    "import pandas as pd\n",
    "from typing import List\n",
    "import xml.etree.ElementTree as ET\n",
    "\n",
    "nltk.download('punkt_tab')\n",
    "nltk.download('stopwords')"
   ],
   "outputs": [
    {
     "name": "stderr",
     "output_type": "stream",
     "text": [
      "[nltk_data] Downloading package punkt_tab to\n",
      "[nltk_data]     /home/gustavo/nltk_data...\n",
      "[nltk_data]   Package punkt_tab is already up-to-date!\n",
      "[nltk_data] Downloading package stopwords to\n",
      "[nltk_data]     /home/gustavo/nltk_data...\n",
      "[nltk_data]   Package stopwords is already up-to-date!\n"
     ]
    },
    {
     "data": {
      "text/plain": [
       "True"
      ]
     },
     "execution_count": 1,
     "metadata": {},
     "output_type": "execute_result"
    }
   ],
   "execution_count": 1
  },
  {
   "metadata": {
    "ExecuteTime": {
     "end_time": "2024-08-22T21:29:17.062254Z",
     "start_time": "2024-08-22T21:29:17.058956Z"
    }
   },
   "cell_type": "code",
   "source": [
    "def precision(relevance_query: List[int]):\n",
    "    return sum(relevance_query) / len(relevance_query)"
   ],
   "id": "7941fd8ee28e9d97",
   "outputs": [],
   "execution_count": 2
  },
  {
   "metadata": {
    "ExecuteTime": {
     "end_time": "2024-08-22T21:29:18.681217Z",
     "start_time": "2024-08-22T21:29:18.677542Z"
    }
   },
   "cell_type": "code",
   "source": "precision([1, 0, 0, 1])",
   "id": "7bd3ee7f41a5002c",
   "outputs": [
    {
     "data": {
      "text/plain": [
       "0.5"
      ]
     },
     "execution_count": 3,
     "metadata": {},
     "output_type": "execute_result"
    }
   ],
   "execution_count": 3
  },
  {
   "metadata": {
    "ExecuteTime": {
     "end_time": "2024-08-22T21:29:20.637301Z",
     "start_time": "2024-08-22T21:29:20.633987Z"
    }
   },
   "cell_type": "code",
   "source": [
    "def precision_at_k(relevance_query: List[int], k: int):\n",
    "    return sum(relevance_query[:k]) / len(relevance_query[:k])"
   ],
   "id": "eb74791d93a4e8af",
   "outputs": [],
   "execution_count": 4
  },
  {
   "metadata": {
    "ExecuteTime": {
     "end_time": "2024-08-22T21:29:22.116816Z",
     "start_time": "2024-08-22T21:29:22.110261Z"
    }
   },
   "cell_type": "code",
   "source": "precision_at_k([1, 0, 0, 1], 2)",
   "id": "f70fbcc86434fe0a",
   "outputs": [
    {
     "data": {
      "text/plain": [
       "0.5"
      ]
     },
     "execution_count": 5,
     "metadata": {},
     "output_type": "execute_result"
    }
   ],
   "execution_count": 5
  },
  {
   "metadata": {
    "ExecuteTime": {
     "end_time": "2024-08-22T21:29:23.386690Z",
     "start_time": "2024-08-22T21:29:23.383221Z"
    }
   },
   "cell_type": "code",
   "source": [
    "def recall_at_k(relevance_query: List[int], k: int, num_relevant_docs: int):\n",
    "    return sum(relevance_query[:k]) / num_relevant_docs"
   ],
   "id": "69140f1b42236306",
   "outputs": [],
   "execution_count": 6
  },
  {
   "metadata": {
    "ExecuteTime": {
     "end_time": "2024-08-22T21:29:25.564417Z",
     "start_time": "2024-08-22T21:29:25.558595Z"
    }
   },
   "cell_type": "code",
   "source": "recall_at_k([1, 0, 0, 1], 2, 4)",
   "id": "c05951ca8dc132a1",
   "outputs": [
    {
     "data": {
      "text/plain": [
       "0.25"
      ]
     },
     "execution_count": 7,
     "metadata": {},
     "output_type": "execute_result"
    }
   ],
   "execution_count": 7
  },
  {
   "metadata": {
    "ExecuteTime": {
     "end_time": "2024-08-22T21:29:26.734641Z",
     "start_time": "2024-08-22T21:29:26.731758Z"
    }
   },
   "cell_type": "code",
   "source": [
    "def average_precision(relevance_query: List[int]):\n",
    "    cumulative_precision = 0\n",
    "    relevant_count = 0\n",
    "    for observation_count, relevance in enumerate(relevance_query, 1):\n",
    "        if relevance:\n",
    "            relevant_count += 1\n",
    "            cumulative_precision += relevant_count / observation_count\n",
    "    return cumulative_precision / relevant_count\n"
   ],
   "id": "4496b3ea9847ff23",
   "outputs": [],
   "execution_count": 8
  },
  {
   "metadata": {
    "ExecuteTime": {
     "end_time": "2024-08-22T21:29:28.712249Z",
     "start_time": "2024-08-22T21:29:28.705885Z"
    }
   },
   "cell_type": "code",
   "source": "average_precision([0, 1, 0, 1, 1, 1, 1])",
   "id": "259c79d2f552cdfd",
   "outputs": [
    {
     "data": {
      "text/plain": [
       "0.5961904761904762"
      ]
     },
     "execution_count": 9,
     "metadata": {},
     "output_type": "execute_result"
    }
   ],
   "execution_count": 9
  },
  {
   "metadata": {
    "ExecuteTime": {
     "end_time": "2024-08-22T21:29:29.821676Z",
     "start_time": "2024-08-22T21:29:29.818431Z"
    }
   },
   "cell_type": "code",
   "source": [
    "def mean_average_precision(relevance_queries: List[List[int]]):\n",
    "    return sum(average_precision(relevance_query) for relevance_query in relevance_queries) / len(relevance_queries)\n"
   ],
   "id": "7e623c3d14168e19",
   "outputs": [],
   "execution_count": 10
  },
  {
   "metadata": {
    "ExecuteTime": {
     "end_time": "2024-08-22T21:29:31.224344Z",
     "start_time": "2024-08-22T21:29:31.220889Z"
    }
   },
   "cell_type": "code",
   "source": "mean_average_precision([[1, 0, 1], [0, 1, 1]])",
   "id": "e2e1afa9c8cf6613",
   "outputs": [
    {
     "data": {
      "text/plain": [
       "0.7083333333333333"
      ]
     },
     "execution_count": 11,
     "metadata": {},
     "output_type": "execute_result"
    }
   ],
   "execution_count": 11
  },
  {
   "metadata": {
    "ExecuteTime": {
     "end_time": "2024-08-22T21:29:33.124698Z",
     "start_time": "2024-08-22T21:29:33.121984Z"
    }
   },
   "cell_type": "code",
   "source": [
    "def discounted_cumulative_gain(relevance_query: List[int], k: int):\n",
    "    return sum(relevance / np.log2(max(i, 2)) for i, relevance in enumerate(relevance_query[:k], 1))"
   ],
   "id": "c68d421e29c7b747",
   "outputs": [],
   "execution_count": 12
  },
  {
   "metadata": {
    "ExecuteTime": {
     "end_time": "2024-08-22T21:29:34.452490Z",
     "start_time": "2024-08-22T21:29:34.448011Z"
    }
   },
   "cell_type": "code",
   "source": "discounted_cumulative_gain([4, 4, 3, 0, 0, 1, 3, 3, 3, 0], 6)",
   "id": "b29271cf22d33fc0",
   "outputs": [
    {
     "data": {
      "text/plain": [
       "10.279642067948915"
      ]
     },
     "execution_count": 13,
     "metadata": {},
     "output_type": "execute_result"
    }
   ],
   "execution_count": 13
  },
  {
   "metadata": {
    "ExecuteTime": {
     "end_time": "2024-08-22T21:29:35.591641Z",
     "start_time": "2024-08-22T21:29:35.588640Z"
    }
   },
   "cell_type": "code",
   "source": [
    "def normalized_discounted_cumulative_gain(relevance_query: List[int], k: int):\n",
    "    rq = relevance_query.copy()\n",
    "    rq.sort(reverse=True)\n",
    "    return discounted_cumulative_gain(relevance_query, k) / discounted_cumulative_gain(rq, k)"
   ],
   "id": "ecad790e84a4af42",
   "outputs": [],
   "execution_count": 14
  },
  {
   "metadata": {
    "ExecuteTime": {
     "end_time": "2024-08-22T21:29:37.472068Z",
     "start_time": "2024-08-22T21:29:37.465871Z"
    }
   },
   "cell_type": "code",
   "source": "normalized_discounted_cumulative_gain([4, 24, 3, 0, 0, 1, 3, 3, 3, 3, 0], 6)",
   "id": "5f29f6127f44f208",
   "outputs": [
    {
     "data": {
      "text/plain": [
       "0.8946463131104694"
      ]
     },
     "execution_count": 15,
     "metadata": {},
     "output_type": "execute_result"
    }
   ],
   "execution_count": 15
  },
  {
   "metadata": {
    "ExecuteTime": {
     "end_time": "2024-08-22T21:29:38.573244Z",
     "start_time": "2024-08-22T21:29:38.569737Z"
    }
   },
   "cell_type": "code",
   "source": [
    "def token_preprocessing(tokens: List[str]):\n",
    "    tokens = [word.lower() for word in tokens]\n",
    "    stop_words = set(stopwords.words('english'))\n",
    "    tokens = [word for word in tokens if not word in stop_words]\n",
    "    tokens = [word for word in tokens if 'a' <= word[0] <= 'z']\n",
    "    ps = PorterStemmer()\n",
    "    return [ps.stem(word) for word in tokens]\n",
    "\n",
    "\n",
    "def text_preprocessing(text: str):\n",
    "    tokens = word_tokenize(text)\n",
    "    return token_preprocessing(tokens)\n",
    "\n"
   ],
   "id": "dd5a8f8b1f51a553",
   "outputs": [],
   "execution_count": 16
  },
  {
   "metadata": {
    "ExecuteTime": {
     "end_time": "2024-08-22T21:29:40.532615Z",
     "start_time": "2024-08-22T21:29:40.510753Z"
    }
   },
   "cell_type": "code",
   "source": [
    "text_preprocessing(\n",
    "    \"William Beaumont: Physiology of digestion Image Source.  On November 21, 1785, US-American surgeon William Beaumont was born.\")"
   ],
   "id": "2c6c56be31b8ea84",
   "outputs": [
    {
     "data": {
      "text/plain": [
       "['william',\n",
       " 'beaumont',\n",
       " 'physiolog',\n",
       " 'digest',\n",
       " 'imag',\n",
       " 'sourc',\n",
       " 'novemb',\n",
       " 'us-american',\n",
       " 'surgeon',\n",
       " 'william',\n",
       " 'beaumont',\n",
       " 'born']"
      ]
     },
     "execution_count": 17,
     "metadata": {},
     "output_type": "execute_result"
    }
   ],
   "execution_count": 17
  },
  {
   "metadata": {
    "ExecuteTime": {
     "end_time": "2024-08-22T21:29:43.426799Z",
     "start_time": "2024-08-22T21:29:43.421109Z"
    }
   },
   "cell_type": "code",
   "source": [
    "class Document:\n",
    "    def __init__(self, text: str, name: str = 'nameless'):\n",
    "        self.text = text\n",
    "        self.name = name\n",
    "        counter = Counter(text_preprocessing(text))\n",
    "        self.term_counts = pd.DataFrame({'term': counter.keys(), 'count': counter.values()})\n",
    "\n",
    "    def __repr__(self):\n",
    "        return str(self)\n",
    "\n",
    "    def __str__(self):\n",
    "        return self.name\n"
   ],
   "id": "6009551032686c27",
   "outputs": [],
   "execution_count": 18
  },
  {
   "metadata": {
    "ExecuteTime": {
     "end_time": "2024-08-22T21:29:46.660226Z",
     "start_time": "2024-08-22T21:29:46.654738Z"
    }
   },
   "cell_type": "code",
   "source": [
    "def load_docs(docs_folder_path: Path):\n",
    "    files = [f for f in os.listdir(docs_folder_path) if f.endswith('.naf')]\n",
    "    docs = []\n",
    "    for file in files:\n",
    "        tree = ET.parse(os.path.join(docs_folder_path, file))\n",
    "        root = tree.getroot()\n",
    "        raw_text = root.find('.//raw').text\n",
    "        name = file.split('.')[1]\n",
    "        docs.append(Document(raw_text, name))\n",
    "    return docs"
   ],
   "id": "56714ba9f3c65ac7",
   "outputs": [],
   "execution_count": 19
  },
  {
   "metadata": {
    "ExecuteTime": {
     "end_time": "2024-08-22T21:29:54.499111Z",
     "start_time": "2024-08-22T21:29:52.479437Z"
    }
   },
   "cell_type": "code",
   "source": "all_docs = load_docs(Path(\"./data/docs-raw-texts\"))",
   "id": "5d654a8c6f381877",
   "outputs": [],
   "execution_count": 20
  },
  {
   "metadata": {
    "ExecuteTime": {
     "end_time": "2024-08-22T21:33:41.953270Z",
     "start_time": "2024-08-22T21:33:41.948810Z"
    }
   },
   "cell_type": "code",
   "source": [
    "class BSII:\n",
    "    def __init__(self, docs: List[Document]):\n",
    "        self.docs = docs\n",
    "        self.inverse_index = {}\n",
    "        for doc in self.docs:\n",
    "            for term in doc.term_counts.term:\n",
    "                if term not in self.inverse_index:\n",
    "                    self.inverse_index[term] = set()\n",
    "                self.inverse_index[term].add(doc)\n",
    "\n",
    "    def search(self, query_document: Document = None, excluded_query_document: Document = None):\n",
    "        relevant_docs = set()\n",
    "        if query_document is not None:\n",
    "            for term in query_document.term_counts.term:\n",
    "                if term in self.inverse_index:\n",
    "                    relevant_docs.update(self.inverse_index[term])\n",
    "        else:\n",
    "            relevant_docs = set(self.docs)\n",
    "        if excluded_query_document is not None:\n",
    "            for term in excluded_query_document.term_counts.term:\n",
    "                if term in self.inverse_index:\n",
    "                    relevant_docs.difference_update(self.inverse_index[term])\n",
    "        return relevant_docs\n"
   ],
   "id": "5972db28204e6413",
   "outputs": [],
   "execution_count": 27
  },
  {
   "metadata": {
    "ExecuteTime": {
     "end_time": "2024-08-22T21:29:58.537993Z",
     "start_time": "2024-08-22T21:29:58.329960Z"
    }
   },
   "cell_type": "code",
   "source": [
    "bsii = BSII(all_docs)\n",
    "bsii.search(query_document=Document('Physiology'), excluded_query_document=Document('Swiss'))"
   ],
   "id": "9137326030702f77",
   "outputs": [
    {
     "data": {
      "text/plain": [
       "{d001, d046, d062, d120, d133, d191, d261, d286, d294, d314}"
      ]
     },
     "execution_count": 22,
     "metadata": {},
     "output_type": "execute_result"
    }
   ],
   "execution_count": 22
  },
  {
   "metadata": {
    "ExecuteTime": {
     "end_time": "2024-08-22T21:30:00.486155Z",
     "start_time": "2024-08-22T21:30:00.465341Z"
    }
   },
   "cell_type": "code",
   "source": "all_queries = load_docs(Path(\"./data/queries-raw-texts\"))",
   "id": "365de5135c52046d",
   "outputs": [],
   "execution_count": 23
  },
  {
   "metadata": {
    "ExecuteTime": {
     "end_time": "2024-08-22T21:37:28.904740Z",
     "start_time": "2024-08-22T21:37:28.899120Z"
    }
   },
   "cell_type": "code",
   "source": [
    "def evaluate_search(search_class: type, documents: List[Document], queries: List[Document], output_path: Path):\n",
    "    search_object = search_class(documents)\n",
    "    with open(output_path, 'w') as output_file:\n",
    "        for query in queries:\n",
    "            relevant_docs = search_object.search(query_document=query)\n",
    "            output_file.write(f\"{query.name}\\t{','.join(doc.name for doc in relevant_docs)}\\n\")\n",
    "    \n",
    "    "
   ],
   "id": "207b5e4c18c4dc7a",
   "outputs": [],
   "execution_count": 39
  },
  {
   "metadata": {
    "ExecuteTime": {
     "end_time": "2024-08-22T21:37:37.310194Z",
     "start_time": "2024-08-22T21:37:37.255459Z"
    }
   },
   "cell_type": "code",
   "source": "evaluate_search(BSII, all_docs, all_queries, 'data/BSII-AND-queries_result')",
   "id": "8585529ad5c4b448",
   "outputs": [],
   "execution_count": 40
  }
 ],
 "metadata": {
  "kernelspec": {
   "display_name": "Python 3",
   "language": "python",
   "name": "python3"
  },
  "language_info": {
   "codemirror_mode": {
    "name": "ipython",
    "version": 2
   },
   "file_extension": ".py",
   "mimetype": "text/x-python",
   "name": "python",
   "nbconvert_exporter": "python",
   "pygments_lexer": "ipython2",
   "version": "2.7.6"
  }
 },
 "nbformat": 4,
 "nbformat_minor": 5
}
