{
 "cells": [
  {
   "cell_type": "code",
   "id": "initial_id",
   "metadata": {
    "collapsed": true,
    "ExecuteTime": {
     "end_time": "2024-08-22T23:40:33.284341Z",
     "start_time": "2024-08-22T23:40:32.671199Z"
    }
   },
   "source": [
    "import os\n",
    "from pathlib import Path\n",
    "\n",
    "import numpy as np\n",
    "from nltk.corpus import stopwords\n",
    "from nltk.stem import PorterStemmer\n",
    "from nltk.tokenize import word_tokenize\n",
    "import nltk\n",
    "from collections import Counter\n",
    "import pandas as pd\n",
    "from typing import List\n",
    "import xml.etree.ElementTree as ET\n",
    "\n",
    "nltk.download('punkt_tab')\n",
    "nltk.download('stopwords')"
   ],
   "outputs": [
    {
     "name": "stderr",
     "output_type": "stream",
     "text": [
      "[nltk_data] Downloading package punkt_tab to\n",
      "[nltk_data]     /home/gustavo/nltk_data...\n",
      "[nltk_data]   Package punkt_tab is already up-to-date!\n",
      "[nltk_data] Downloading package stopwords to\n",
      "[nltk_data]     /home/gustavo/nltk_data...\n",
      "[nltk_data]   Package stopwords is already up-to-date!\n"
     ]
    },
    {
     "data": {
      "text/plain": [
       "True"
      ]
     },
     "execution_count": 1,
     "metadata": {},
     "output_type": "execute_result"
    }
   ],
   "execution_count": 1
  },
  {
   "metadata": {
    "ExecuteTime": {
     "end_time": "2024-08-22T23:40:33.287652Z",
     "start_time": "2024-08-22T23:40:33.285310Z"
    }
   },
   "cell_type": "code",
   "source": [
    "def precision(relevance_query: List[int]):\n",
    "    return sum(relevance_query) / len(relevance_query)"
   ],
   "id": "7941fd8ee28e9d97",
   "outputs": [],
   "execution_count": 2
  },
  {
   "metadata": {
    "ExecuteTime": {
     "end_time": "2024-08-22T23:40:33.295006Z",
     "start_time": "2024-08-22T23:40:33.288248Z"
    }
   },
   "cell_type": "code",
   "source": "precision([1, 0, 0, 1])",
   "id": "7bd3ee7f41a5002c",
   "outputs": [
    {
     "data": {
      "text/plain": [
       "0.5"
      ]
     },
     "execution_count": 3,
     "metadata": {},
     "output_type": "execute_result"
    }
   ],
   "execution_count": 3
  },
  {
   "metadata": {
    "ExecuteTime": {
     "end_time": "2024-08-22T23:40:33.297986Z",
     "start_time": "2024-08-22T23:40:33.295997Z"
    }
   },
   "cell_type": "code",
   "source": [
    "def precision_at_k(relevance_query: List[int], k: int):\n",
    "    return sum(relevance_query[:k]) / len(relevance_query[:k])"
   ],
   "id": "eb74791d93a4e8af",
   "outputs": [],
   "execution_count": 4
  },
  {
   "metadata": {
    "ExecuteTime": {
     "end_time": "2024-08-22T23:40:33.300980Z",
     "start_time": "2024-08-22T23:40:33.298570Z"
    }
   },
   "cell_type": "code",
   "source": "precision_at_k([1, 0, 0, 1], 2)",
   "id": "f70fbcc86434fe0a",
   "outputs": [
    {
     "data": {
      "text/plain": [
       "0.5"
      ]
     },
     "execution_count": 5,
     "metadata": {},
     "output_type": "execute_result"
    }
   ],
   "execution_count": 5
  },
  {
   "metadata": {
    "ExecuteTime": {
     "end_time": "2024-08-22T23:40:33.303391Z",
     "start_time": "2024-08-22T23:40:33.301487Z"
    }
   },
   "cell_type": "code",
   "source": [
    "def recall_at_k(relevance_query: List[int], k: int, num_relevant_docs: int):\n",
    "    return sum(relevance_query[:k]) / num_relevant_docs"
   ],
   "id": "69140f1b42236306",
   "outputs": [],
   "execution_count": 6
  },
  {
   "metadata": {
    "ExecuteTime": {
     "end_time": "2024-08-22T23:40:33.306183Z",
     "start_time": "2024-08-22T23:40:33.303942Z"
    }
   },
   "cell_type": "code",
   "source": "recall_at_k([1, 0, 0, 1], 2, 4)",
   "id": "c05951ca8dc132a1",
   "outputs": [
    {
     "data": {
      "text/plain": [
       "0.25"
      ]
     },
     "execution_count": 7,
     "metadata": {},
     "output_type": "execute_result"
    }
   ],
   "execution_count": 7
  },
  {
   "metadata": {
    "ExecuteTime": {
     "end_time": "2024-08-22T23:40:33.309133Z",
     "start_time": "2024-08-22T23:40:33.306832Z"
    }
   },
   "cell_type": "code",
   "source": [
    "def average_precision(relevance_query: List[int]):\n",
    "    cumulative_precision = 0\n",
    "    relevant_count = 0\n",
    "    for observation_count, relevance in enumerate(relevance_query, 1):\n",
    "        if relevance:\n",
    "            relevant_count += 1\n",
    "            cumulative_precision += relevant_count / observation_count\n",
    "    return cumulative_precision / relevant_count\n"
   ],
   "id": "4496b3ea9847ff23",
   "outputs": [],
   "execution_count": 8
  },
  {
   "metadata": {
    "ExecuteTime": {
     "end_time": "2024-08-22T23:40:33.312136Z",
     "start_time": "2024-08-22T23:40:33.309760Z"
    }
   },
   "cell_type": "code",
   "source": "average_precision([0, 1, 0, 1, 1, 1, 1])",
   "id": "259c79d2f552cdfd",
   "outputs": [
    {
     "data": {
      "text/plain": [
       "0.5961904761904762"
      ]
     },
     "execution_count": 9,
     "metadata": {},
     "output_type": "execute_result"
    }
   ],
   "execution_count": 9
  },
  {
   "metadata": {
    "ExecuteTime": {
     "end_time": "2024-08-22T23:40:33.315685Z",
     "start_time": "2024-08-22T23:40:33.313591Z"
    }
   },
   "cell_type": "code",
   "source": [
    "def mean_average_precision(relevance_queries: List[List[int]]):\n",
    "    return sum(average_precision(relevance_query) for relevance_query in relevance_queries) / len(relevance_queries)\n"
   ],
   "id": "7e623c3d14168e19",
   "outputs": [],
   "execution_count": 10
  },
  {
   "metadata": {
    "ExecuteTime": {
     "end_time": "2024-08-22T23:40:33.318566Z",
     "start_time": "2024-08-22T23:40:33.316263Z"
    }
   },
   "cell_type": "code",
   "source": "mean_average_precision([[1, 0, 1], [0, 1, 1]])",
   "id": "e2e1afa9c8cf6613",
   "outputs": [
    {
     "data": {
      "text/plain": [
       "0.7083333333333333"
      ]
     },
     "execution_count": 11,
     "metadata": {},
     "output_type": "execute_result"
    }
   ],
   "execution_count": 11
  },
  {
   "metadata": {
    "ExecuteTime": {
     "end_time": "2024-08-22T23:40:33.321321Z",
     "start_time": "2024-08-22T23:40:33.319273Z"
    }
   },
   "cell_type": "code",
   "source": [
    "def discounted_cumulative_gain(relevance_query: List[int], k: int):\n",
    "    return sum(relevance / np.log2(max(i, 2)) for i, relevance in enumerate(relevance_query[:k], 1))"
   ],
   "id": "c68d421e29c7b747",
   "outputs": [],
   "execution_count": 12
  },
  {
   "metadata": {
    "ExecuteTime": {
     "end_time": "2024-08-22T23:40:33.324772Z",
     "start_time": "2024-08-22T23:40:33.322236Z"
    }
   },
   "cell_type": "code",
   "source": "discounted_cumulative_gain([4, 4, 3, 0, 0, 1, 3, 3, 3, 0], 6)",
   "id": "b29271cf22d33fc0",
   "outputs": [
    {
     "data": {
      "text/plain": [
       "10.279642067948915"
      ]
     },
     "execution_count": 13,
     "metadata": {},
     "output_type": "execute_result"
    }
   ],
   "execution_count": 13
  },
  {
   "metadata": {
    "ExecuteTime": {
     "end_time": "2024-08-22T23:40:33.327326Z",
     "start_time": "2024-08-22T23:40:33.325420Z"
    }
   },
   "cell_type": "code",
   "source": [
    "def normalized_discounted_cumulative_gain(relevance_query: List[int], k: int):\n",
    "    rq = relevance_query.copy()\n",
    "    rq.sort(reverse=True)\n",
    "    return discounted_cumulative_gain(relevance_query, k) / discounted_cumulative_gain(rq, k)"
   ],
   "id": "ecad790e84a4af42",
   "outputs": [],
   "execution_count": 14
  },
  {
   "metadata": {
    "ExecuteTime": {
     "end_time": "2024-08-22T23:40:33.331252Z",
     "start_time": "2024-08-22T23:40:33.327847Z"
    }
   },
   "cell_type": "code",
   "source": "normalized_discounted_cumulative_gain([4, 24, 3, 0, 0, 1, 3, 3, 3, 3, 0], 6)",
   "id": "5f29f6127f44f208",
   "outputs": [
    {
     "data": {
      "text/plain": [
       "0.8946463131104694"
      ]
     },
     "execution_count": 15,
     "metadata": {},
     "output_type": "execute_result"
    }
   ],
   "execution_count": 15
  },
  {
   "metadata": {
    "ExecuteTime": {
     "end_time": "2024-08-22T23:40:33.334999Z",
     "start_time": "2024-08-22T23:40:33.331840Z"
    }
   },
   "cell_type": "code",
   "source": [
    "def token_preprocessing(tokens: List[str]):\n",
    "    tokens = [word.lower() for word in tokens]\n",
    "    stop_words = set(stopwords.words('english'))\n",
    "    tokens = [word for word in tokens if not word in stop_words]\n",
    "    tokens = [word for word in tokens if 'a' <= word[0] <= 'z']\n",
    "    ps = PorterStemmer()\n",
    "    return [ps.stem(word) for word in tokens]\n",
    "\n",
    "\n",
    "def text_preprocessing(text: str):\n",
    "    tokens = word_tokenize(text)\n",
    "    return token_preprocessing(tokens)\n",
    "\n"
   ],
   "id": "dd5a8f8b1f51a553",
   "outputs": [],
   "execution_count": 16
  },
  {
   "metadata": {
    "ExecuteTime": {
     "end_time": "2024-08-22T23:40:33.350385Z",
     "start_time": "2024-08-22T23:40:33.335567Z"
    }
   },
   "cell_type": "code",
   "source": [
    "text_preprocessing(\n",
    "    \"William Beaumont: Physiology of digestion Image Source.  On November 21, 1785, US-American surgeon William Beaumont was born.\")"
   ],
   "id": "2c6c56be31b8ea84",
   "outputs": [
    {
     "data": {
      "text/plain": [
       "['william',\n",
       " 'beaumont',\n",
       " 'physiolog',\n",
       " 'digest',\n",
       " 'imag',\n",
       " 'sourc',\n",
       " 'novemb',\n",
       " 'us-american',\n",
       " 'surgeon',\n",
       " 'william',\n",
       " 'beaumont',\n",
       " 'born']"
      ]
     },
     "execution_count": 17,
     "metadata": {},
     "output_type": "execute_result"
    }
   ],
   "execution_count": 17
  },
  {
   "metadata": {
    "ExecuteTime": {
     "end_time": "2024-08-22T23:40:33.353319Z",
     "start_time": "2024-08-22T23:40:33.350961Z"
    }
   },
   "cell_type": "code",
   "source": [
    "class Document:\n",
    "    def __init__(self, text: str, name: str = 'nameless'):\n",
    "        self.text = text\n",
    "        self.name = name\n",
    "        counter = Counter(text_preprocessing(text))\n",
    "        self.term_counts = pd.Series(counter.values(), index=counter.keys())\n",
    "\n",
    "    def __repr__(self):\n",
    "        return str(self)\n",
    "\n",
    "    def __str__(self):\n",
    "        return self.name\n"
   ],
   "id": "6009551032686c27",
   "outputs": [],
   "execution_count": 18
  },
  {
   "metadata": {
    "ExecuteTime": {
     "end_time": "2024-08-22T23:40:33.356460Z",
     "start_time": "2024-08-22T23:40:33.353850Z"
    }
   },
   "cell_type": "code",
   "source": [
    "def load_docs(docs_folder_path: Path):\n",
    "    files = [f for f in os.listdir(docs_folder_path) if f.endswith('.naf')]\n",
    "    docs = []\n",
    "    for file in files:\n",
    "        tree = ET.parse(os.path.join(docs_folder_path, file))\n",
    "        root = tree.getroot()\n",
    "        raw_text = root.find('.//raw').text\n",
    "        name = file.split('.')[1]\n",
    "        docs.append(Document(raw_text, name))\n",
    "    return docs"
   ],
   "id": "56714ba9f3c65ac7",
   "outputs": [],
   "execution_count": 19
  },
  {
   "metadata": {
    "ExecuteTime": {
     "end_time": "2024-08-22T23:40:35.271798Z",
     "start_time": "2024-08-22T23:40:33.357058Z"
    }
   },
   "cell_type": "code",
   "source": "all_docs = load_docs(Path(\"./data/docs-raw-texts\"))",
   "id": "5d654a8c6f381877",
   "outputs": [],
   "execution_count": 20
  },
  {
   "metadata": {
    "ExecuteTime": {
     "end_time": "2024-08-22T23:40:35.277119Z",
     "start_time": "2024-08-22T23:40:35.272884Z"
    }
   },
   "cell_type": "code",
   "source": [
    "class BSII:\n",
    "    def __init__(self, docs: List[Document]):\n",
    "        self.docs = docs\n",
    "        self.inverse_index = {}\n",
    "        for doc in self.docs:\n",
    "            for term in doc.term_counts.index:\n",
    "                if term not in self.inverse_index:\n",
    "                    self.inverse_index[term] = set()\n",
    "                self.inverse_index[term].add(doc)\n",
    "\n",
    "    def search(self, query_document: Document = None, excluded_query_document: Document = None):\n",
    "        relevant_docs = set()\n",
    "        if query_document is not None:\n",
    "            for term in query_document.term_counts.index:\n",
    "                if term in self.inverse_index:\n",
    "                    relevant_docs.update(self.inverse_index[term])\n",
    "        else:\n",
    "            relevant_docs = set(self.docs)\n",
    "        if excluded_query_document is not None:\n",
    "            for term in excluded_query_document.term_counts.index:\n",
    "                if term in self.inverse_index:\n",
    "                    relevant_docs.difference_update(self.inverse_index[term])\n",
    "        return relevant_docs\n",
    "\n",
    "    def evaluate_search(self, queries: List[Document], output_path: Path):\n",
    "        with open(output_path, 'w') as output_file:\n",
    "            for query in queries:\n",
    "                relevant_docs = self.search(query_document=query)\n",
    "                output_file.write(f\"{query.name}\\t{','.join(doc.name for doc in relevant_docs)}\\n\")\n"
   ],
   "id": "5972db28204e6413",
   "outputs": [],
   "execution_count": 21
  },
  {
   "metadata": {
    "ExecuteTime": {
     "end_time": "2024-08-22T23:40:35.304892Z",
     "start_time": "2024-08-22T23:40:35.277718Z"
    }
   },
   "cell_type": "code",
   "source": [
    "bsii = BSII(all_docs)\n",
    "bsii.search(query_document=Document('Physiology'), excluded_query_document=Document('Swiss'))"
   ],
   "id": "9137326030702f77",
   "outputs": [
    {
     "data": {
      "text/plain": [
       "{d001, d046, d062, d120, d133, d191, d261, d286, d294, d314}"
      ]
     },
     "execution_count": 22,
     "metadata": {},
     "output_type": "execute_result"
    }
   ],
   "execution_count": 22
  },
  {
   "metadata": {
    "ExecuteTime": {
     "end_time": "2024-08-22T23:40:35.315874Z",
     "start_time": "2024-08-22T23:40:35.305572Z"
    }
   },
   "cell_type": "code",
   "source": "all_queries = load_docs(Path(\"./data/queries-raw-texts\"))",
   "id": "365de5135c52046d",
   "outputs": [],
   "execution_count": 23
  },
  {
   "metadata": {
    "ExecuteTime": {
     "end_time": "2024-08-22T23:40:35.319789Z",
     "start_time": "2024-08-22T23:40:35.316895Z"
    }
   },
   "cell_type": "code",
   "source": "bsii.evaluate_search(all_queries, 'data/BSII-AND-queries_result')",
   "id": "8585529ad5c4b448",
   "outputs": [],
   "execution_count": 24
  },
  {
   "metadata": {
    "ExecuteTime": {
     "end_time": "2024-08-22T23:40:35.324986Z",
     "start_time": "2024-08-22T23:40:35.320304Z"
    }
   },
   "cell_type": "code",
   "source": [
    "\n",
    "\n",
    "class RRDV:\n",
    "    def __init__(self, docs: List[Document]):\n",
    "        self.docs = docs\n",
    "        self.term_counts = pd.DataFrame({\n",
    "            doc.name: doc.term_counts for doc in self.docs\n",
    "        })\n",
    "        self.term_counts.fillna(0, inplace=True)\n",
    "        self.document_count = (self.term_counts >= 1).sum(axis=1)\n",
    "        self.idf = np.log10(len(self.docs) / self.document_count)\n",
    "        self.tfidf = np.log10(1 + self.term_counts).mul(self.idf, axis=0)\n",
    "\n",
    "    @staticmethod\n",
    "    def cosine_similarity(tfidf_doc_1: pd.Series, tfidf_doc_2: pd.Series | pd.DataFrame):\n",
    "        return np.dot(tfidf_doc_1, tfidf_doc_2) / (\n",
    "                np.linalg.norm(tfidf_doc_1) * np.linalg.norm(tfidf_doc_2, axis=0))\n",
    "\n",
    "    def search(self, query_document: Document, min_similarity: int = 0):\n",
    "        in_vocab_term_counts = query_document.term_counts[query_document.term_counts.index.isin(self.idf.index)]\n",
    "        query_tfidf = (np.log10(1 + in_vocab_term_counts) * self.idf).fillna(0)\n",
    "        results = pd.DataFrame({'similarity': self.cosine_similarity(query_tfidf, self.tfidf), 'doc': self.docs},\n",
    "                               index=self.tfidf.columns)\n",
    "        results.sort_values(by='similarity', ascending=False, inplace=True)\n",
    "        results = results[results['similarity'] > min_similarity]\n",
    "        return results\n",
    "\n",
    "    def evaluate_search(self, queries: List[Document], output_path: Path):\n",
    "        with open(output_path, 'w') as output_file:\n",
    "            for query in queries:\n",
    "                relevant_docs = self.search(query_document=query)    \n",
    "                result_texts = [f'{doc_name}:{row.similarity}' for doc_name, row in relevant_docs.iterrows()]\n",
    "                output_file.write(f\"{query.name}\\t{','.join(result_texts)}\\n\")\n",
    "\n"
   ],
   "id": "7363b5a4482ecf4d",
   "outputs": [],
   "execution_count": 25
  },
  {
   "metadata": {
    "ExecuteTime": {
     "end_time": "2024-08-22T23:40:35.620375Z",
     "start_time": "2024-08-22T23:40:35.325554Z"
    }
   },
   "cell_type": "code",
   "source": "rrdv = RRDV(all_docs)",
   "id": "cf6767750e1fcdeb",
   "outputs": [],
   "execution_count": 26
  },
  {
   "metadata": {
    "ExecuteTime": {
     "end_time": "2024-08-22T23:40:35.625539Z",
     "start_time": "2024-08-22T23:40:35.621233Z"
    }
   },
   "cell_type": "code",
   "source": "rrdv.cosine_similarity(rrdv.tfidf[all_docs[0].name], rrdv.tfidf[all_docs[0].name])",
   "id": "fdd7645bbe1ddabb",
   "outputs": [
    {
     "data": {
      "text/plain": [
       "1.0"
      ]
     },
     "execution_count": 27,
     "metadata": {},
     "output_type": "execute_result"
    }
   ],
   "execution_count": 27
  },
  {
   "metadata": {
    "ExecuteTime": {
     "end_time": "2024-08-22T23:40:35.646117Z",
     "start_time": "2024-08-22T23:40:35.627574Z"
    }
   },
   "cell_type": "code",
   "source": "rrdv.cosine_similarity(rrdv.tfidf[all_docs[1].name], rrdv.tfidf).shape",
   "id": "7f31296fc0755a32",
   "outputs": [
    {
     "data": {
      "text/plain": [
       "(331,)"
      ]
     },
     "execution_count": 28,
     "metadata": {},
     "output_type": "execute_result"
    }
   ],
   "execution_count": 28
  },
  {
   "metadata": {
    "ExecuteTime": {
     "end_time": "2024-08-22T23:40:36.376280Z",
     "start_time": "2024-08-22T23:40:35.647706Z"
    }
   },
   "cell_type": "code",
   "source": "rrdv.evaluate_search(all_queries, output_path=Path(\"./data/RRDV-consultas_resultado\"))",
   "id": "a4b248f9ef02d0e8",
   "outputs": [],
   "execution_count": 29
  }
 ],
 "metadata": {
  "kernelspec": {
   "display_name": "Python 3",
   "language": "python",
   "name": "python3"
  },
  "language_info": {
   "codemirror_mode": {
    "name": "ipython",
    "version": 2
   },
   "file_extension": ".py",
   "mimetype": "text/x-python",
   "name": "python",
   "nbconvert_exporter": "python",
   "pygments_lexer": "ipython2",
   "version": "2.7.6"
  }
 },
 "nbformat": 4,
 "nbformat_minor": 5
}
