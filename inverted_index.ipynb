{
 "cells": [
  {
   "cell_type": "markdown",
   "metadata": {},
   "source": [
    "## Búsqueda binaria con índice invertido (BSII)"
   ]
  },
  {
   "cell_type": "markdown",
   "metadata": {},
   "source": [
    "Importamos librerías de utilidad."
   ]
  },
  {
   "cell_type": "code",
   "execution_count": null,
   "metadata": {},
   "outputs": [],
   "source": [
    "\n",
    "from pathlib import Path\n",
    "from typing import List\n"
   ]
  },
  {
   "cell_type": "markdown",
   "metadata": {},
   "source": [
    "Importamos nuestras funciones de preprocesamiento de documentos\n"
   ]
  },
  {
   "cell_type": "code",
   "execution_count": null,
   "metadata": {},
   "outputs": [],
   "source": [
    "from documents import load_docs, Document"
   ]
  },
  {
   "cell_type": "code",
   "execution_count": null,
   "metadata": {},
   "outputs": [],
   "source": [
    "all_docs = load_docs(Path(\"./data/docs-raw-texts\"))"
   ]
  },
  {
   "cell_type": "markdown",
   "metadata": {},
   "source": [
    "A continuación la definición de la clase que representará al **Índice Invertido (BSII)**. Representa los listings en un diccionario, que internamente ya se encarga del hashing."
   ]
  },
  {
   "cell_type": "code",
   "execution_count": null,
   "metadata": {},
   "outputs": [],
   "source": [
    "class BSII:\n",
    "    def __init__(self, docs: List[Document]):\n",
    "        \"\"\"\n",
    "        Inicializa el índice invertido utilizando una lista de documentos.\n",
    "\n",
    "        Args:\n",
    "            docs (List[Document]): Lista de objetos Document a indexar.\n",
    "        \"\"\"\n",
    "        self.docs = docs\n",
    "        self.inverse_index = {}\n",
    "\n",
    "        # Construir el índice invertido\n",
    "        for doc in self.docs:\n",
    "\n",
    "            # Procesa cada término del documento\n",
    "            for term in doc.term_counts.index:\n",
    "\n",
    "                # Si el término no está en el índice invertido, lo agrega\n",
    "                if term not in self.inverse_index:\n",
    "                    self.inverse_index[term] = set()\n",
    "\n",
    "                # Añade el documento al listing del término\n",
    "                self.inverse_index[term].add(doc)\n",
    "\n",
    "    def search(self, query_document: Document = None, excluded_query_document: Document = None) -> set:\n",
    "        \"\"\"\n",
    "        Realiza una búsqueda en el índice invertido, incluyendo o excluyendo documentos según los términos. Note que procesamos los queries como objetos de tipo Documento.\n",
    "\n",
    "        Args:\n",
    "            query_document (Document, opcional): Documento cuyas palabras clave se utilizarán para buscar documentos relevantes. Esto implementa el AND.\n",
    "            excluded_query_document (Document, opcional): Documento cuyas palabras clave se utilizarán para excluir documentos de los resultados. Esto es equivalente a un NOT.\n",
    "\n",
    "        Returns:\n",
    "            set: Un conjunto de documentos que cumplen con los criterios de la búsqueda.\n",
    "        \"\"\"\n",
    "        relevant_docs = set(self.docs)\n",
    "\n",
    "        # Incluir documentos relevantes según el query_document\n",
    "        if query_document is not None:\n",
    "            for term in query_document.term_counts.index:\n",
    "                if term in self.inverse_index:\n",
    "                    relevant_docs.intersection_update(self.inverse_index[term])\n",
    "\n",
    "        # Excluir documentos según el excluded_query_document\n",
    "        if excluded_query_document is not None:\n",
    "            for term in excluded_query_document.term_counts.index:\n",
    "                if term in self.inverse_index:\n",
    "                    relevant_docs.difference_update(self.inverse_index[term])\n",
    "\n",
    "        return relevant_docs\n",
    "\n",
    "    def evaluate_search(self, queries: List[Document], output_path: Path):\n",
    "        \"\"\"\n",
    "        Evalúa las consultas de búsqueda y escribe los resultados en un archivo de salida.\n",
    "\n",
    "        Args:\n",
    "            queries (List[Document]): Lista de documentos a utilizar como consultas.\n",
    "            output_path (Path): Ruta del archivo donde se guardarán los resultados.\n",
    "        \"\"\"\n",
    "        with open(output_path, 'w') as output_file:\n",
    "            for query in queries:\n",
    "                relevant_docs = self.search(query_document=query)\n",
    "                # Escribir el nombre de la consulta seguido de los nombres de los documentos relevantes\n",
    "                output_file.write(f\"{query.name}\\t{','.join(doc.name for doc in relevant_docs)}\\n\")"
   ]
  },
  {
   "cell_type": "markdown",
   "metadata": {},
   "source": [
    "Construimos nuestra clase con nuestros documentos."
   ]
  },
  {
   "cell_type": "code",
   "execution_count": null,
   "metadata": {},
   "outputs": [],
   "source": [
    "bsii = BSII(all_docs)"
   ]
  },
  {
   "cell_type": "markdown",
   "metadata": {},
   "source": [
    "Y calculamos todos los queries, almacenándolos en el formato especificado."
   ]
  },
  {
   "cell_type": "code",
   "execution_count": null,
   "metadata": {},
   "outputs": [],
   "source": [
    "all_queries = load_docs(Path(\"./data/queries-raw-texts\"))\n",
    "bsii.evaluate_search(all_queries, 'data/BSII-AND-queries_result')"
   ]
  },
  {
   "cell_type": "markdown",
   "metadata": {},
   "source": [
    "Qué hacemos con términos que no están en el índice invertido para las búsquedas? Por defecto ahora los está ignorando simplemente:"
   ]
  },
  {
   "cell_type": "code",
   "execution_count": null,
   "metadata": {},
   "outputs": [],
   "source": [
    "bsii.search(query_document=Document('Physiology Esternocleidomastoideo'), excluded_query_document=Document('Swiss'))"
   ]
  }
 ],
 "metadata": {
  "kernelspec": {
   "display_name": "Python 3",
   "language": "python",
   "name": "python3"
  },
  "language_info": {
   "codemirror_mode": {
    "name": "ipython",
    "version": 3
   },
   "file_extension": ".py",
   "mimetype": "text/x-python",
   "name": "python",
   "nbconvert_exporter": "python",
   "pygments_lexer": "ipython3",
   "version": "3.11.9"
  }
 },
 "nbformat": 4,
 "nbformat_minor": 2
}
