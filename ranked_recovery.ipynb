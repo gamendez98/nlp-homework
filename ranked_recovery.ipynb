{
 "cells": [
  {
   "cell_type": "markdown",
   "metadata": {},
   "source": [
    "## Recuperación ranqueada y vectorización de documentos (RRDV)"
   ]
  },
  {
   "cell_type": "markdown",
   "metadata": {},
   "source": [
    "Importamos librerías de utilidad."
   ]
  },
  {
   "cell_type": "code",
   "metadata": {
    "ExecuteTime": {
     "end_time": "2024-08-28T00:48:22.234338Z",
     "start_time": "2024-08-28T00:48:22.004635Z"
    }
   },
   "source": [
    "from pathlib import Path\n",
    "from typing import List\n",
    "\n",
    "import numpy as np\n",
    "import pandas as pd"
   ],
   "outputs": [],
   "execution_count": 1
  },
  {
   "metadata": {},
   "cell_type": "markdown",
   "source": "Importamos nuestras funciones de preprocesamiento de documentos"
  },
  {
   "metadata": {
    "ExecuteTime": {
     "end_time": "2024-08-28T00:48:22.867021Z",
     "start_time": "2024-08-28T00:48:22.241004Z"
    }
   },
   "cell_type": "code",
   "source": "from documents import Document, load_docs",
   "outputs": [
    {
     "name": "stderr",
     "output_type": "stream",
     "text": [
      "[nltk_data] Downloading package punkt to /home/gustavo/nltk_data...\n",
      "[nltk_data]   Package punkt is already up-to-date!\n",
      "[nltk_data] Downloading package stopwords to\n",
      "[nltk_data]     /home/gustavo/nltk_data...\n",
      "[nltk_data]   Package stopwords is already up-to-date!\n",
      "[nltk_data] Downloading package punkt_tab to\n",
      "[nltk_data]     /home/gustavo/nltk_data...\n",
      "[nltk_data]   Package punkt_tab is already up-to-date!\n"
     ]
    }
   ],
   "execution_count": 2
  },
  {
   "cell_type": "code",
   "metadata": {
    "ExecuteTime": {
     "end_time": "2024-08-28T00:48:25.071169Z",
     "start_time": "2024-08-28T00:48:22.953569Z"
    }
   },
   "source": [
    "all_docs = load_docs(Path(\"./data/docs-raw-texts\"))"
   ],
   "outputs": [],
   "execution_count": 3
  },
  {
   "cell_type": "markdown",
   "metadata": {},
   "source": [
    "Definimos la clase para la **Recuperación Ranqueada y Vectorización de Documentos.** Como parte de sus atributos almacena el conteo de términos por documento, y su IDF y TF-IDF. Con estos se hará la búsqueda ranqueada, haciendo uso de la similitud coseno."
   ]
  },
  {
   "cell_type": "code",
   "metadata": {
    "ExecuteTime": {
     "end_time": "2024-08-28T00:48:25.083894Z",
     "start_time": "2024-08-28T00:48:25.078232Z"
    }
   },
   "source": [
    "class RRDV:\n",
    "    def __init__(self, docs: List[Document]):\n",
    "        \"\"\"\n",
    "        Inicializa RRDV con una lista de documentos.\n",
    "\n",
    "        Args:\n",
    "            docs (List[Document]): Lista de objetos Document para construir el índice TF-IDF.\n",
    "        \"\"\"\n",
    "        self.docs = docs\n",
    "        \n",
    "        # Crear un DataFrame con los conteos de términos para cada documento\n",
    "        self.term_counts = pd.DataFrame({\n",
    "            doc.name: doc.term_counts for doc in self.docs\n",
    "        })\n",
    "        self.term_counts.fillna(0, inplace=True)\n",
    "\n",
    "        # Calcular la frecuencia de documentos para cada término\n",
    "        self.document_count = (self.term_counts >= 1).sum(axis=1)\n",
    "\n",
    "        # Calcular el IDF (Inverse Document Frequency)\n",
    "        self.idf = np.log10(len(self.docs) / self.document_count)\n",
    "\n",
    "        # Calcular TF-IDF (Term Frequency-Inverse Document Frequency)\n",
    "        self.tfidf = np.log10(1 + self.term_counts).mul(self.idf, axis=0)\n",
    "\n",
    "    @staticmethod\n",
    "    def cosine_similarity(tfidf_doc_1: pd.Series, tfidf_doc_2: pd.Series | pd.DataFrame) -> pd.Series:\n",
    "        \"\"\"\n",
    "        Calcula la similitud coseno entre dos vectores.\n",
    "\n",
    "        Args:\n",
    "            tfidf_doc_1 (pd.Series): Vector del primer documento.\n",
    "            tfidf_doc_2 (pd.Series | pd.DataFrame): Vector TF-IDF del segundo documento o un DataFrame de vectores.\n",
    "\n",
    "        Returns:\n",
    "            pd.Series: Similitudes coseno entre tfidf_doc_1 y tfidf_doc_2.\n",
    "        \"\"\"\n",
    "        return np.dot(tfidf_doc_1, tfidf_doc_2) / (\n",
    "            np.linalg.norm(tfidf_doc_1) * np.linalg.norm(tfidf_doc_2, axis=0))\n",
    "\n",
    "    def search(self, query_document: Document, min_similarity: float = 0.0) -> pd.DataFrame:\n",
    "        \"\"\"\n",
    "        Realiza una búsqueda para encontrar documentos similares al documento de consulta.\n",
    "\n",
    "        Args:\n",
    "            query_document (Document): Documento de consulta para buscar similitudes.\n",
    "            min_similarity (float): Umbral mínimo de similitud para filtrar resultados. Por defecto es 0.\n",
    "\n",
    "        Returns:\n",
    "            pd.DataFrame: DataFrame con documentos relevantes y sus similitudes.\n",
    "        \"\"\"\n",
    "        # Filtrar términos en el vocabulario del índice\n",
    "        in_vocab_term_counts = query_document.term_counts[query_document.term_counts.index.isin(self.idf.index)]\n",
    "        \n",
    "        # Calcular el TF-IDF para el documento de consulta\n",
    "        query_tfidf = (np.log10(1 + in_vocab_term_counts) * self.idf).fillna(0)\n",
    "\n",
    "        # Calcular la similitud coseno entre el documento de consulta y todos los documentos en el índice\n",
    "        similarities = self.cosine_similarity(query_tfidf, self.tfidf)\n",
    "        \n",
    "        # Crear un DataFrame con los resultados de similitud\n",
    "        results = pd.DataFrame({\n",
    "            'similarity': similarities,\n",
    "            'doc': self.docs\n",
    "        }, index=self.tfidf.columns)\n",
    "        \n",
    "        # Ordenar los resultados por similitud de mayor a menor\n",
    "        results.sort_values(by='similarity', ascending=False, inplace=True)\n",
    "\n",
    "        # Filtrar los resultados por similitud mínima\n",
    "        results = results[results['similarity'] > min_similarity]\n",
    "        \n",
    "        return results\n",
    "\n",
    "    def evaluate_search(self, queries: List[Document], output_path: Path):\n",
    "        \"\"\"\n",
    "        Evalúa las consultas y escribe los resultados en un archivo de salida.\n",
    "\n",
    "        Args:\n",
    "            queries (List[Document]): Lista de documentos de consulta para evaluar.\n",
    "            output_path (Path): Ruta del archivo donde se guardarán los resultados.\n",
    "        \"\"\"\n",
    "        with open(output_path, 'w') as output_file:\n",
    "            for query in queries:\n",
    "                relevant_docs = self.search(query_document=query)    \n",
    "                result_texts = [f'{doc_name}:{row.similarity}' for doc_name, row in relevant_docs.iterrows()]\n",
    "                output_file.write(f\"{query.name}\\t{','.join(result_texts)}\\n\")\n"
   ],
   "outputs": [],
   "execution_count": 4
  },
  {
   "cell_type": "code",
   "metadata": {
    "ExecuteTime": {
     "end_time": "2024-08-28T00:48:25.412932Z",
     "start_time": "2024-08-28T00:48:25.130733Z"
    }
   },
   "source": [
    "rrdv = RRDV(all_docs)"
   ],
   "outputs": [],
   "execution_count": 5
  },
  {
   "cell_type": "code",
   "metadata": {
    "ExecuteTime": {
     "end_time": "2024-08-28T00:48:26.079468Z",
     "start_time": "2024-08-28T00:48:25.417215Z"
    }
   },
   "source": [
    "all_queries = load_docs(Path(\"./data/queries-raw-texts\"))\n",
    "rrdv.evaluate_search(all_queries, output_path=Path(\"./data/RRDV-consultas_resultado\"))"
   ],
   "outputs": [],
   "execution_count": 6
  }
 ],
 "metadata": {
  "kernelspec": {
   "display_name": "Python 3",
   "language": "python",
   "name": "python3"
  },
  "language_info": {
   "codemirror_mode": {
    "name": "ipython",
    "version": 3
   },
   "file_extension": ".py",
   "mimetype": "text/x-python",
   "name": "python",
   "nbconvert_exporter": "python",
   "pygments_lexer": "ipython3",
   "version": "3.11.9"
  }
 },
 "nbformat": 4,
 "nbformat_minor": 2
}
