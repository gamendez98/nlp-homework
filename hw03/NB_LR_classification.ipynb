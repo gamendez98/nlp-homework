{
 "cells": [
  {
   "cell_type": "code",
   "id": "initial_id",
   "metadata": {
    "collapsed": true,
    "ExecuteTime": {
     "end_time": "2024-09-14T17:27:18.768796Z",
     "start_time": "2024-09-14T17:27:18.762695Z"
    }
   },
   "source": [
    "import os\n",
    "from pathlib import Path\n",
    "from typing import Iterable\n",
    "import nltk\n",
    "import numpy as np\n",
    "import pandas as pd\n",
    "from nltk.corpus import stopwords\n",
    "from nltk.tokenize import word_tokenize\n",
    "from nltk.stem import WordNetLemmatizer\n",
    "from sklearn.feature_extraction.text import TfidfVectorizer, CountVectorizer\n",
    "from sklearn.linear_model import LogisticRegression\n",
    "from sklearn.metrics import precision_score, recall_score, f1_score\n",
    "from sklearn.model_selection import train_test_split, KFold, GridSearchCV\n",
    "from sklearn.naive_bayes import GaussianNB\n",
    "from sklearn.pipeline import Pipeline\n",
    "from sklearn.preprocessing import FunctionTransformer\n",
    "\n",
    "nltk.download('punkt')\n",
    "nltk.download('wordnet')\n",
    "nltk.download('stopwords')\n",
    "\n",
    "\n",
    "class DocumentPreprocessor:\n",
    "    def __init__(self, stop_words: Iterable[str] = None, lemmatizer: WordNetLemmatizer = None):\n",
    "        self.stop_words = stop_words or set(stopwords.words('english'))\n",
    "        self.lemmatizer = lemmatizer or WordNetLemmatizer()\n",
    "\n",
    "    def fit(self, X, y=None):\n",
    "        return self\n",
    "\n",
    "    def transform(self, X, y=None):\n",
    "        return pd.Series([self.preprocess_document(doc) for doc in X])\n",
    "\n",
    "    def preprocess_document(self, doc):\n",
    "        tokens = word_tokenize(doc)\n",
    "        tokens = [self.lemmatizer.lemmatize(token.lower()) for token in tokens if\n",
    "                  token.lower() not in self.stop_words and token.isalnum()]\n",
    "        return ' '.join(tokens)\n",
    "\n",
    "\n",
    "def load_news_documents(dataset_path: Path):\n",
    "    document_names = []\n",
    "    document_texts = []\n",
    "    document_classes = []\n",
    "    dataset_classnames = os.listdir(dataset_path)\n",
    "    for doc_class in dataset_classnames:\n",
    "        class_path = os.path.join(dataset_path, doc_class)\n",
    "        file_names = os.listdir(class_path)\n",
    "        for file_name in file_names:\n",
    "            file_path = os.path.join(class_path, file_name)\n",
    "            document_names.append(file_name)\n",
    "            document_classes.append(doc_class)\n",
    "            with open(file_path, 'r', encoding='ISO-8859-1') as f:\n",
    "                document_texts.append(f.read())\n",
    "    return pd.DataFrame(\n",
    "        {'document_name': document_names, 'document_class': document_classes, 'document_text': document_texts})\n"
   ],
   "outputs": [
    {
     "name": "stderr",
     "output_type": "stream",
     "text": [
      "[nltk_data] Downloading package punkt to /home/gustavo/nltk_data...\n",
      "[nltk_data]   Package punkt is already up-to-date!\n",
      "[nltk_data] Downloading package wordnet to /home/gustavo/nltk_data...\n",
      "[nltk_data]   Package wordnet is already up-to-date!\n",
      "[nltk_data] Downloading package stopwords to\n",
      "[nltk_data]     /home/gustavo/nltk_data...\n",
      "[nltk_data]   Package stopwords is already up-to-date!\n"
     ]
    }
   ],
   "execution_count": 17
  },
  {
   "metadata": {
    "ExecuteTime": {
     "end_time": "2024-09-14T17:21:52.722666Z",
     "start_time": "2024-09-14T17:21:52.720083Z"
    }
   },
   "cell_type": "code",
   "source": [
    "import warnings\n",
    "\n",
    "warnings.filterwarnings(\"ignore\")\n"
   ],
   "id": "3f465f6f26d24fea",
   "outputs": [],
   "execution_count": 14
  },
  {
   "metadata": {
    "ExecuteTime": {
     "end_time": "2024-09-14T17:10:46.483913Z",
     "start_time": "2024-09-14T17:10:46.239894Z"
    }
   },
   "cell_type": "code",
   "source": "dataset = load_news_documents('../data/20news-18828')",
   "id": "4e7ccd382e602d2c",
   "outputs": [],
   "execution_count": 2
  },
  {
   "metadata": {
    "ExecuteTime": {
     "end_time": "2024-09-14T17:10:48.055884Z",
     "start_time": "2024-09-14T17:10:48.047432Z"
    }
   },
   "cell_type": "code",
   "source": [
    "train_df, remaining_df = train_test_split(dataset, test_size=0.4, random_state=42)\n",
    "val_df, test_df = train_test_split(remaining_df, test_size=0.75, random_state=42)"
   ],
   "id": "edc91de2cc444955",
   "outputs": [],
   "execution_count": 3
  },
  {
   "metadata": {
    "ExecuteTime": {
     "end_time": "2024-09-14T17:10:49.774958Z",
     "start_time": "2024-09-14T17:10:49.769746Z"
    }
   },
   "cell_type": "code",
   "source": "document_preprocessor = DocumentPreprocessor()",
   "id": "699b867b1c1bf3c6",
   "outputs": [],
   "execution_count": 4
  },
  {
   "metadata": {
    "ExecuteTime": {
     "end_time": "2024-09-14T17:11:19.371456Z",
     "start_time": "2024-09-14T17:10:51.100171Z"
    }
   },
   "cell_type": "code",
   "source": [
    "X_train = document_preprocessor.transform(train_df['document_text'])\n",
    "X_val = document_preprocessor.transform(val_df['document_text'])\n",
    "X_test = document_preprocessor.transform(test_df['document_text'])"
   ],
   "id": "ef25e49da6319192",
   "outputs": [],
   "execution_count": 5
  },
  {
   "metadata": {
    "ExecuteTime": {
     "end_time": "2024-09-14T17:11:29.902308Z",
     "start_time": "2024-09-14T17:11:29.896960Z"
    }
   },
   "cell_type": "code",
   "source": [
    "y_train = train_df['document_class']\n",
    "y_val = val_df['document_class']\n",
    "y_test = test_df['document_class']"
   ],
   "id": "71895b9eea6be7a7",
   "outputs": [],
   "execution_count": 6
  },
  {
   "metadata": {
    "ExecuteTime": {
     "end_time": "2024-09-14T16:58:01.778778Z",
     "start_time": "2024-09-14T16:57:45.279413Z"
    }
   },
   "cell_type": "code",
   "source": [
    "pipeline_c_lr = Pipeline([\n",
    "    ('vectorizer', CountVectorizer()),\n",
    "    ('classifier', LogisticRegression())\n",
    "])\n",
    "\n",
    "pipeline_c_lr.fit(X_train, y_train)\n",
    "pipeline_c_lr.score(X_test, y_test)"
   ],
   "id": "cad728ad0a032b68",
   "outputs": [
    {
     "data": {
      "text/plain": [
       "0.8730748805098247"
      ]
     },
     "execution_count": 12,
     "metadata": {},
     "output_type": "execute_result"
    }
   ],
   "execution_count": 12
  },
  {
   "metadata": {
    "ExecuteTime": {
     "end_time": "2024-09-14T16:58:16.186252Z",
     "start_time": "2024-09-14T16:58:04.473726Z"
    }
   },
   "cell_type": "code",
   "source": [
    "pipeline_tfidf_lr = Pipeline([\n",
    "    ('vectorizer', TfidfVectorizer()),\n",
    "    ('classifier', LogisticRegression())\n",
    "])\n",
    "\n",
    "pipeline_tfidf_lr.fit(X_train, y_train)\n",
    "pipeline_tfidf_lr.score(X_test, y_test)"
   ],
   "id": "67f3435a3d8a5349",
   "outputs": [
    {
     "data": {
      "text/plain": [
       "0.8849353867941229"
      ]
     },
     "execution_count": 13,
     "metadata": {},
     "output_type": "execute_result"
    }
   ],
   "execution_count": 13
  },
  {
   "metadata": {
    "ExecuteTime": {
     "end_time": "2024-09-14T17:11:43.166652Z",
     "start_time": "2024-09-14T17:11:43.163339Z"
    }
   },
   "cell_type": "code",
   "source": "transform_sparce = FunctionTransformer(lambda X: np.asarray(X.todense()))",
   "id": "da5df2eadcf58175",
   "outputs": [],
   "execution_count": 9
  },
  {
   "metadata": {
    "ExecuteTime": {
     "end_time": "2024-09-14T16:59:14.624519Z",
     "start_time": "2024-09-14T16:59:08.696666Z"
    }
   },
   "cell_type": "code",
   "source": [
    "pipeline_c_nb = Pipeline([\n",
    "    ('vectorizer', CountVectorizer(max_features=10000)),\n",
    "    ('to_dense', transform_sparce),\n",
    "    ('classifier', GaussianNB())\n",
    "])\n",
    "\n",
    "pipeline_c_nb.fit(X_train, y_train)\n",
    "pipeline_c_nb.score(X_test, y_test)"
   ],
   "id": "f5ca634ef1c61462",
   "outputs": [
    {
     "data": {
      "text/plain": [
       "0.7459727385377943"
      ]
     },
     "execution_count": 16,
     "metadata": {},
     "output_type": "execute_result"
    }
   ],
   "execution_count": 16
  },
  {
   "metadata": {
    "ExecuteTime": {
     "end_time": "2024-09-14T16:59:19.339583Z",
     "start_time": "2024-09-14T16:59:14.635048Z"
    }
   },
   "cell_type": "code",
   "source": [
    "pipeline_tfidf_nb = Pipeline([\n",
    "    ('vectorizer', TfidfVectorizer(max_features=10000)),\n",
    "    ('to_dense', transform_sparce),\n",
    "    ('classifier', GaussianNB())\n",
    "])\n",
    "\n",
    "pipeline_tfidf_nb.fit(X_train, y_train)\n",
    "pipeline_tfidf_nb.score(X_test, y_test)"
   ],
   "id": "cc7923796d2b0497",
   "outputs": [
    {
     "data": {
      "text/plain": [
       "0.7544698176668437"
      ]
     },
     "execution_count": 17,
     "metadata": {},
     "output_type": "execute_result"
    }
   ],
   "execution_count": 17
  },
  {
   "metadata": {
    "ExecuteTime": {
     "end_time": "2024-09-14T17:27:18.686165Z",
     "start_time": "2024-09-14T17:24:04.922195Z"
    }
   },
   "cell_type": "code",
   "source": [
    "\n",
    "\n",
    "X_train_val = pd.concat([X_train, X_val])\n",
    "y_train_val = pd.concat([y_train, y_val])\n",
    "\n",
    "param_grid = {\n",
    "    'classifier__C': [0.1, 1, 10, 100]\n",
    "}\n",
    "\n",
    "pipeline_tfidf_lr = Pipeline([\n",
    "    ('vectorizer', TfidfVectorizer()),\n",
    "    ('classifier', LogisticRegression(solver='liblinear'))\n",
    "])\n",
    "\n",
    "kf = KFold(n_splits=10, shuffle=True, random_state=42)\n",
    "grid_search = GridSearchCV(pipeline_tfidf_lr, param_grid, cv=kf, scoring='accuracy')\n",
    "grid_search.fit(X_train_val, y_train_val)\n",
    "print(f\"Best parameters found: {grid_search.best_params_}\")\n",
    "print(f\"Best cross-validation score: {grid_search.best_score_}\")"
   ],
   "id": "ced0892569abf79b",
   "outputs": [
    {
     "name": "stdout",
     "output_type": "stream",
     "text": [
      "Best parameters found: {'classifier__C': 100}\n",
      "Best cross-validation score: 0.915851195352476\n"
     ]
    }
   ],
   "execution_count": 16
  },
  {
   "metadata": {
    "ExecuteTime": {
     "end_time": "2024-09-14T17:23:22.918671Z",
     "start_time": "2024-09-14T17:22:09.003891Z"
    }
   },
   "cell_type": "code",
   "source": [
    "X_train_val = pd.concat([X_train, X_val])\n",
    "y_train_val = pd.concat([y_train, y_val])\n",
    "\n",
    "param_grid = {\n",
    "    'classifier__var_smoothing': [1e-10, 1e-9, 1e-8]\n",
    "}\n",
    "\n",
    "pipeline_tfidf_nb = Pipeline([\n",
    "    ('vectorizer', TfidfVectorizer(max_features=10000)),\n",
    "    ('to_dense', transform_sparce),\n",
    "    ('classifier', GaussianNB())\n",
    "])\n",
    "\n",
    "kf_nb = KFold(n_splits=10, shuffle=True, random_state=42)\n",
    "grid_search_nb = GridSearchCV(pipeline_tfidf_nb, param_grid, cv=kf_nb, scoring='accuracy')\n",
    "grid_search_nb.fit(X_train_val, y_train_val)\n",
    "print(f\"Best parameters found: {grid_search_nb.best_params_}\")\n",
    "print(f\"Best cross-validation score: {grid_search_nb.best_score_}\")"
   ],
   "id": "9bded970eb8c8b98",
   "outputs": [
    {
     "name": "stdout",
     "output_type": "stream",
     "text": [
      "Best parameters found: {'classifier__var_smoothing': 1e-08}\n",
      "Best cross-validation score: 0.7517262873846502\n"
     ]
    }
   ],
   "execution_count": 15
  },
  {
   "metadata": {
    "ExecuteTime": {
     "end_time": "2024-09-14T17:36:53.387346Z",
     "start_time": "2024-09-14T17:36:53.383524Z"
    }
   },
   "cell_type": "code",
   "source": [
    "def evaluate_model(model, X_test, y_test):\n",
    "    \n",
    "    y_pred = model.predict(X_test)\n",
    "    \n",
    "    precision_macro = precision_score(y_test, y_pred, average='macro')\n",
    "    recall_macro = recall_score(y_test, y_pred, average='macro')\n",
    "    f1_macro = f1_score(y_test, y_pred, average='macro')\n",
    "    \n",
    "    precision_micro = precision_score(y_test, y_pred, average='micro')\n",
    "    recall_micro = recall_score(y_test, y_pred, average='micro')\n",
    "    f1_micro = f1_score(y_test, y_pred, average='micro')\n",
    "    \n",
    "    print(f\"Precision (Macro): {precision_macro}\")\n",
    "    print(f\"Recall (Macro): {recall_macro}\")\n",
    "    print(f\"F1 Score (Macro): {f1_macro}\")\n",
    "    print(f\"Precision (Micro): {precision_micro}\")\n",
    "    print(f\"Recall (Micro): {recall_micro}\")\n",
    "    print(f\"F1 Score (Micro): {f1_micro}\")\n"
   ],
   "id": "62bee7cde68aa475",
   "outputs": [],
   "execution_count": 25
  },
  {
   "metadata": {
    "ExecuteTime": {
     "end_time": "2024-09-14T17:36:55.807528Z",
     "start_time": "2024-09-14T17:36:55.356186Z"
    }
   },
   "cell_type": "code",
   "source": "evaluate_model(grid_search.best_estimator_, X_test, y_test)",
   "id": "286bfbb18fb05670",
   "outputs": [
    {
     "name": "stdout",
     "output_type": "stream",
     "text": [
      "Precision (Macro): 0.919615441822286\n",
      "Recall (Macro): 0.9168014513574156\n",
      "F1 Score (Macro): 0.9178375068474682\n",
      "Precision (Micro): 0.9201628606833068\n",
      "Recall (Micro): 0.9201628606833068\n",
      "F1 Score (Micro): 0.9201628606833068\n"
     ]
    }
   ],
   "execution_count": 26
  },
  {
   "metadata": {
    "ExecuteTime": {
     "end_time": "2024-09-14T17:37:15.290407Z",
     "start_time": "2024-09-14T17:37:10.867972Z"
    }
   },
   "cell_type": "code",
   "source": "evaluate_model(grid_search_nb.best_estimator_, X_test, y_test)",
   "id": "c9b0fb8e41ccb15",
   "outputs": [
    {
     "name": "stdout",
     "output_type": "stream",
     "text": [
      "Precision (Macro): 0.762674604856379\n",
      "Recall (Macro): 0.7648273062076675\n",
      "F1 Score (Macro): 0.7611843493506316\n",
      "Precision (Micro): 0.7663303239511418\n",
      "Recall (Micro): 0.7663303239511418\n",
      "F1 Score (Micro): 0.7663303239511418\n"
     ]
    }
   ],
   "execution_count": 27
  },
  {
   "metadata": {
    "ExecuteTime": {
     "end_time": "2024-09-14T17:28:04.495827Z",
     "start_time": "2024-09-14T17:28:04.492366Z"
    }
   },
   "cell_type": "code",
   "source": "",
   "id": "23523c9244d8195f",
   "outputs": [
    {
     "data": {
      "text/plain": [
       "sklearn.feature_extraction.text.TfidfVectorizer"
      ]
     },
     "execution_count": 20,
     "metadata": {},
     "output_type": "execute_result"
    }
   ],
   "execution_count": 20
  }
 ],
 "metadata": {
  "kernelspec": {
   "display_name": "Python 3",
   "language": "python",
   "name": "python3"
  },
  "language_info": {
   "codemirror_mode": {
    "name": "ipython",
    "version": 2
   },
   "file_extension": ".py",
   "mimetype": "text/x-python",
   "name": "python",
   "nbconvert_exporter": "python",
   "pygments_lexer": "ipython2",
   "version": "2.7.6"
  }
 },
 "nbformat": 4,
 "nbformat_minor": 5
}
