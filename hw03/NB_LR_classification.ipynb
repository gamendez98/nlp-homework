{
 "cells": [
  {
   "cell_type": "code",
   "id": "initial_id",
   "metadata": {
    "collapsed": true,
    "ExecuteTime": {
     "end_time": "2024-09-13T22:42:46.938600Z",
     "start_time": "2024-09-13T22:42:45.873199Z"
    }
   },
   "source": [
    "import os\n",
    "from pathlib import Path\n",
    "from typing import Iterable\n",
    "import nltk\n",
    "import numpy as np\n",
    "import pandas as pd\n",
    "from nltk.corpus import stopwords\n",
    "from nltk.tokenize import word_tokenize\n",
    "from nltk.stem import WordNetLemmatizer\n",
    "from sklearn.feature_extraction.text import TfidfVectorizer\n",
    "from sklearn.model_selection import train_test_split\n",
    "from sklearn.naive_bayes import GaussianNB\n",
    "\n",
    "nltk.download('punkt')\n",
    "nltk.download('wordnet')\n",
    "nltk.download('stopwords')\n",
    "\n",
    "lemmatizer = WordNetLemmatizer()\n",
    "stop_words = set(stopwords.words('english'))\n",
    "\n",
    "def preprocess_document(doc):\n",
    "    tokens = word_tokenize(doc)\n",
    "    tokens = [lemmatizer.lemmatize(token.lower()) for token in tokens if\n",
    "              token.lower() not in stop_words and token.isalnum()]\n",
    "    return ' '.join(tokens)\n",
    "\n",
    "\n",
    "def create_tf_idf_model(documents: Iterable[str]) -> TfidfVectorizer:\n",
    "    vectorizer = TfidfVectorizer()\n",
    "    vectorizer.fit(documents)\n",
    "    return vectorizer\n",
    "\n",
    "\n",
    "def load_news_documents(dataset_path: Path):\n",
    "    document_names = []\n",
    "    document_texts = []\n",
    "    document_classes = []\n",
    "    dataset_classnames = os.listdir(dataset_path)\n",
    "    for doc_class in dataset_classnames:\n",
    "        class_path = os.path.join(dataset_path, doc_class)\n",
    "        file_names = os.listdir(class_path)\n",
    "        for file_name in file_names:\n",
    "            file_path = os.path.join(class_path, file_name)\n",
    "            document_names.append(file_name)\n",
    "            document_classes.append(doc_class)\n",
    "            with open(file_path, 'r', encoding='ISO-8859-1') as f:\n",
    "                document_texts.append(f.read())\n",
    "    return pd.DataFrame({'document_name': document_names,'document_class': document_classes, 'document_text': document_texts})\n",
    "        "
   ],
   "outputs": [
    {
     "name": "stderr",
     "output_type": "stream",
     "text": [
      "[nltk_data] Downloading package punkt to /home/gustavo/nltk_data...\n",
      "[nltk_data]   Package punkt is already up-to-date!\n",
      "[nltk_data] Downloading package wordnet to /home/gustavo/nltk_data...\n",
      "[nltk_data]   Package wordnet is already up-to-date!\n",
      "[nltk_data] Downloading package stopwords to\n",
      "[nltk_data]     /home/gustavo/nltk_data...\n",
      "[nltk_data]   Package stopwords is already up-to-date!\n"
     ]
    }
   ],
   "execution_count": 1
  },
  {
   "metadata": {
    "ExecuteTime": {
     "end_time": "2024-09-13T22:43:23.133065Z",
     "start_time": "2024-09-13T22:42:53.453936Z"
    }
   },
   "cell_type": "code",
   "source": [
    "dataset = load_news_documents('../data/20news-18828')\n",
    "dataset['document_text'] = dataset['document_text'].apply(preprocess_document)"
   ],
   "id": "4e7ccd382e602d2c",
   "outputs": [],
   "execution_count": 2
  },
  {
   "metadata": {
    "ExecuteTime": {
     "end_time": "2024-09-13T22:43:23.149091Z",
     "start_time": "2024-09-13T22:43:23.138519Z"
    }
   },
   "cell_type": "code",
   "source": [
    "train_df, remaining_df = train_test_split(dataset, test_size=0.4, random_state=42)\n",
    "val_df, test_df = train_test_split(remaining_df, test_size=0.75, random_state=42)"
   ],
   "id": "edc91de2cc444955",
   "outputs": [],
   "execution_count": 3
  },
  {
   "metadata": {
    "ExecuteTime": {
     "end_time": "2024-09-13T22:43:23.197755Z",
     "start_time": "2024-09-13T22:43:23.192353Z"
    }
   },
   "cell_type": "code",
   "source": "del dataset",
   "id": "41f57ae1c3cec7fa",
   "outputs": [],
   "execution_count": 4
  },
  {
   "metadata": {
    "ExecuteTime": {
     "end_time": "2024-09-13T22:43:23.865130Z",
     "start_time": "2024-09-13T22:43:23.246039Z"
    }
   },
   "cell_type": "code",
   "source": "tfidf = create_tf_idf_model(train_df['document_text'])",
   "id": "c10e76633f37f49d",
   "outputs": [],
   "execution_count": 5
  },
  {
   "metadata": {
    "ExecuteTime": {
     "end_time": "2024-09-13T22:43:26.065215Z",
     "start_time": "2024-09-13T22:43:23.876594Z"
    }
   },
   "cell_type": "code",
   "source": [
    "X_train = np.asarray(tfidf.transform(train_df['document_text']).todense())\n",
    "X_val = np.asarray(tfidf.transform(val_df['document_text']).todense())\n",
    "X_test = np.asarray(tfidf.transform(test_df['document_text']).todense())"
   ],
   "id": "64da89d71b869dea",
   "outputs": [],
   "execution_count": 6
  },
  {
   "metadata": {
    "ExecuteTime": {
     "end_time": "2024-09-13T22:43:26.078549Z",
     "start_time": "2024-09-13T22:43:26.075974Z"
    }
   },
   "cell_type": "code",
   "source": [
    "y_train = train_df['document_class']\n",
    "y_val = val_df['document_class']\n",
    "y_test = test_df['document_class']"
   ],
   "id": "71895b9eea6be7a7",
   "outputs": [],
   "execution_count": 7
  },
  {
   "metadata": {
    "jupyter": {
     "is_executing": true
    },
    "ExecuteTime": {
     "start_time": "2024-09-13T22:43:40.294667Z"
    }
   },
   "cell_type": "code",
   "source": [
    "model_nb = GaussianNB()\n",
    "model_nb.fit(X_train, y_train)\n",
    "y_pred_nb = model_nb.predict(X_val)\n",
    "accuracy_nb = sum(y_pred_nb == y_val) / len(y_val)\n",
    "print(accuracy_nb)"
   ],
   "id": "f5ca634ef1c61462",
   "outputs": [],
   "execution_count": null
  },
  {
   "metadata": {},
   "cell_type": "code",
   "outputs": [],
   "execution_count": null,
   "source": "",
   "id": "cc7923796d2b0497"
  }
 ],
 "metadata": {
  "kernelspec": {
   "display_name": "Python 3",
   "language": "python",
   "name": "python3"
  },
  "language_info": {
   "codemirror_mode": {
    "name": "ipython",
    "version": 2
   },
   "file_extension": ".py",
   "mimetype": "text/x-python",
   "name": "python",
   "nbconvert_exporter": "python",
   "pygments_lexer": "ipython2",
   "version": "2.7.6"
  }
 },
 "nbformat": 4,
 "nbformat_minor": 5
}
