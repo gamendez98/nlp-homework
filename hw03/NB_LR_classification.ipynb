{
 "cells": [
  {
   "cell_type": "code",
   "id": "initial_id",
   "metadata": {
    "collapsed": true,
    "ExecuteTime": {
     "end_time": "2024-09-13T23:57:32.417767Z",
     "start_time": "2024-09-13T23:57:32.409325Z"
    }
   },
   "source": [
    "import os\n",
    "from pathlib import Path\n",
    "from typing import Iterable\n",
    "import nltk\n",
    "import numpy as np\n",
    "import pandas as pd\n",
    "from nltk.corpus import stopwords\n",
    "from nltk.tokenize import word_tokenize\n",
    "from nltk.stem import WordNetLemmatizer\n",
    "from sklearn.feature_extraction.text import TfidfVectorizer, CountVectorizer\n",
    "from sklearn.linear_model import LogisticRegression\n",
    "from sklearn.model_selection import train_test_split, KFold, GridSearchCV\n",
    "from sklearn.naive_bayes import GaussianNB\n",
    "from sklearn.pipeline import Pipeline\n",
    "from sklearn.preprocessing import FunctionTransformer\n",
    "\n",
    "nltk.download('punkt')\n",
    "nltk.download('wordnet')\n",
    "nltk.download('stopwords')\n",
    "\n",
    "\n",
    "class DocumentPreprocessor:\n",
    "    def __init__(self, stop_words: Iterable[str] = None, lemmatizer: WordNetLemmatizer = None):\n",
    "        self.stop_words = stop_words or set(stopwords.words('english'))\n",
    "        self.lemmatizer = lemmatizer or WordNetLemmatizer()\n",
    "\n",
    "    def fit(self, X, y=None):\n",
    "        return self\n",
    "\n",
    "    def transform(self, X, y=None):\n",
    "        return [self.preprocess_document(doc) for doc in X]\n",
    "\n",
    "    def preprocess_document(self, doc):\n",
    "        tokens = word_tokenize(doc)\n",
    "        tokens = [self.lemmatizer.lemmatize(token.lower()) for token in tokens if\n",
    "                  token.lower() not in self.stop_words and token.isalnum()]\n",
    "        return ' '.join(tokens)\n",
    "\n",
    "def load_news_documents(dataset_path: Path):\n",
    "    document_names = []\n",
    "    document_texts = []\n",
    "    document_classes = []\n",
    "    dataset_classnames = os.listdir(dataset_path)\n",
    "    for doc_class in dataset_classnames:\n",
    "        class_path = os.path.join(dataset_path, doc_class)\n",
    "        file_names = os.listdir(class_path)\n",
    "        for file_name in file_names:\n",
    "            file_path = os.path.join(class_path, file_name)\n",
    "            document_names.append(file_name)\n",
    "            document_classes.append(doc_class)\n",
    "            with open(file_path, 'r', encoding='ISO-8859-1') as f:\n",
    "                document_texts.append(f.read())\n",
    "    return pd.DataFrame(\n",
    "        {'document_name': document_names, 'document_class': document_classes, 'document_text': document_texts})\n"
   ],
   "outputs": [
    {
     "name": "stderr",
     "output_type": "stream",
     "text": [
      "[nltk_data] Downloading package punkt to /home/gustavo/nltk_data...\n",
      "[nltk_data]   Package punkt is already up-to-date!\n",
      "[nltk_data] Downloading package wordnet to /home/gustavo/nltk_data...\n",
      "[nltk_data]   Package wordnet is already up-to-date!\n",
      "[nltk_data] Downloading package stopwords to\n",
      "[nltk_data]     /home/gustavo/nltk_data...\n",
      "[nltk_data]   Package stopwords is already up-to-date!\n"
     ]
    }
   ],
   "execution_count": 11
  },
  {
   "metadata": {
    "ExecuteTime": {
     "end_time": "2024-09-13T23:57:36.486853Z",
     "start_time": "2024-09-13T23:57:36.243721Z"
    }
   },
   "cell_type": "code",
   "source": "dataset = load_news_documents('../data/20news-18828')",
   "id": "4e7ccd382e602d2c",
   "outputs": [],
   "execution_count": 12
  },
  {
   "metadata": {
    "ExecuteTime": {
     "end_time": "2024-09-13T23:57:38.038854Z",
     "start_time": "2024-09-13T23:57:38.029055Z"
    }
   },
   "cell_type": "code",
   "source": [
    "train_df, remaining_df = train_test_split(dataset, test_size=0.4, random_state=42)\n",
    "val_df, test_df = train_test_split(remaining_df, test_size=0.75, random_state=42)"
   ],
   "id": "edc91de2cc444955",
   "outputs": [],
   "execution_count": 13
  },
  {
   "metadata": {
    "ExecuteTime": {
     "end_time": "2024-09-13T23:57:39.360333Z",
     "start_time": "2024-09-13T23:57:39.355334Z"
    }
   },
   "cell_type": "code",
   "source": [
    "X_train = train_df['document_text']\n",
    "X_val = val_df['document_text']\n",
    "X_test = test_df['document_text']"
   ],
   "id": "ef25e49da6319192",
   "outputs": [],
   "execution_count": 14
  },
  {
   "metadata": {
    "ExecuteTime": {
     "end_time": "2024-09-13T23:57:41.422049Z",
     "start_time": "2024-09-13T23:57:41.414421Z"
    }
   },
   "cell_type": "code",
   "source": [
    "y_train = train_df['document_class']\n",
    "y_val = val_df['document_class']\n",
    "y_test = test_df['document_class']"
   ],
   "id": "71895b9eea6be7a7",
   "outputs": [],
   "execution_count": 15
  },
  {
   "metadata": {
    "ExecuteTime": {
     "end_time": "2024-09-13T23:17:09.813397Z",
     "start_time": "2024-09-13T23:16:35.283823Z"
    }
   },
   "cell_type": "code",
   "source": [
    "pipeline_c_lr = Pipeline([\n",
    "    ('preprocessor', DocumentPreprocessor()),\n",
    "    ('vectorizer', CountVectorizer()),\n",
    "    ('classifier', LogisticRegression())\n",
    "])\n",
    "\n",
    "pipeline_c_lr.fit(X_train, y_train)\n",
    "pipeline_c_lr.score(X_val, y_val)"
   ],
   "id": "cad728ad0a032b68",
   "outputs": [
    {
     "data": {
      "text/plain": [
       "0.8645778013807753"
      ]
     },
     "execution_count": 6,
     "metadata": {},
     "output_type": "execute_result"
    }
   ],
   "execution_count": 6
  },
  {
   "metadata": {
    "ExecuteTime": {
     "end_time": "2024-09-13T23:18:53.928429Z",
     "start_time": "2024-09-13T23:18:23.594602Z"
    }
   },
   "cell_type": "code",
   "source": [
    "pipeline_tfidf_lr = Pipeline([\n",
    "    ('preprocessor', DocumentPreprocessor()),\n",
    "    ('vectorizer', TfidfVectorizer()),\n",
    "    ('classifier', LogisticRegression())\n",
    "])\n",
    "\n",
    "pipeline_tfidf_lr.fit(X_train, y_train)\n",
    "pipeline_tfidf_lr.score(X_val, y_val)"
   ],
   "id": "67f3435a3d8a5349",
   "outputs": [
    {
     "data": {
      "text/plain": [
       "0.8815719596388741"
      ]
     },
     "execution_count": 8,
     "metadata": {},
     "output_type": "execute_result"
    }
   ],
   "execution_count": 8
  },
  {
   "metadata": {
    "ExecuteTime": {
     "end_time": "2024-09-13T23:57:48.228523Z",
     "start_time": "2024-09-13T23:57:48.225202Z"
    }
   },
   "cell_type": "code",
   "source": "transform_sparce = FunctionTransformer(lambda X: np.asarray(X.todense()))",
   "id": "da5df2eadcf58175",
   "outputs": [],
   "execution_count": 16
  },
  {
   "metadata": {
    "ExecuteTime": {
     "end_time": "2024-09-13T23:48:13.858922Z",
     "start_time": "2024-09-13T23:47:50.695046Z"
    }
   },
   "cell_type": "code",
   "source": [
    "pipeline_c_nb = Pipeline([\n",
    "    ('preprocessor', DocumentPreprocessor()),\n",
    "    ('vectorizer', CountVectorizer(max_features=10000)),\n",
    "    ('to_dense', transform_sparce),\n",
    "    ('classifier', GaussianNB())\n",
    "])\n",
    "\n",
    "pipeline_c_nb.fit(X_train, y_train)\n",
    "pipeline_c_nb.score(X_val, y_val)"
   ],
   "id": "f5ca634ef1c61462",
   "outputs": [
    {
     "data": {
      "text/plain": [
       "0.7514604354753054"
      ]
     },
     "execution_count": 8,
     "metadata": {},
     "output_type": "execute_result"
    }
   ],
   "execution_count": 8
  },
  {
   "metadata": {
    "ExecuteTime": {
     "end_time": "2024-09-13T23:49:17.300195Z",
     "start_time": "2024-09-13T23:48:56.610752Z"
    }
   },
   "cell_type": "code",
   "source": [
    "pipeline_tfidf_nb = Pipeline([\n",
    "    ('preprocessor', DocumentPreprocessor()),\n",
    "    ('vectorizer', TfidfVectorizer(max_features=10000)),\n",
    "    ('to_dense', transform_sparce),\n",
    "    ('classifier', GaussianNB())\n",
    "])\n",
    "\n",
    "pipeline_tfidf_nb.fit(X_train, y_train)\n",
    "pipeline_tfidf_nb.score(X_val, y_val)"
   ],
   "id": "cc7923796d2b0497",
   "outputs": [
    {
     "data": {
      "text/plain": [
       "0.7488050982474774"
      ]
     },
     "execution_count": 9,
     "metadata": {},
     "output_type": "execute_result"
    }
   ],
   "execution_count": 9
  },
  {
   "metadata": {
    "jupyter": {
     "is_executing": true
    },
    "ExecuteTime": {
     "start_time": "2024-09-13T23:58:54.549807Z"
    }
   },
   "cell_type": "code",
   "source": [
    "\n",
    "\n",
    "X_train_val = pd.concat([X_train, X_val])\n",
    "y_train_val = pd.concat([y_train, y_val])\n",
    "\n",
    "param_grid = {\n",
    "    'classifier__C': [0.1, 1, 10, 100]\n",
    "}\n",
    "\n",
    "pipeline_tfidf_lr = Pipeline([\n",
    "    ('preprocessor', DocumentPreprocessor()),\n",
    "    ('vectorizer', TfidfVectorizer()),\n",
    "    ('classifier', LogisticRegression(solver='liblinear'))\n",
    "])\n",
    "\n",
    "kf = KFold(n_splits=10, shuffle=True, random_state=42)\n",
    "grid_search = GridSearchCV(pipeline_tfidf_lr, param_grid, cv=kf, scoring='accuracy')\n",
    "grid_search.fit(X_train_val, y_train_val)\n",
    "print(f\"Best parameters found: {grid_search.best_params_}\")\n",
    "print(f\"Best cross-validation score: {grid_search.best_score_}\")"
   ],
   "id": "ced0892569abf79b",
   "outputs": [],
   "execution_count": null
  },
  {
   "metadata": {},
   "cell_type": "code",
   "outputs": [],
   "execution_count": null,
   "source": "",
   "id": "9bded970eb8c8b98"
  },
  {
   "metadata": {},
   "cell_type": "code",
   "outputs": [],
   "execution_count": null,
   "source": "",
   "id": "62bee7cde68aa475"
  },
  {
   "metadata": {},
   "cell_type": "code",
   "outputs": [],
   "execution_count": null,
   "source": "",
   "id": "c9b0fb8e41ccb15"
  },
  {
   "metadata": {},
   "cell_type": "code",
   "outputs": [],
   "execution_count": null,
   "source": "",
   "id": "23523c9244d8195f"
  }
 ],
 "metadata": {
  "kernelspec": {
   "display_name": "Python 3",
   "language": "python",
   "name": "python3"
  },
  "language_info": {
   "codemirror_mode": {
    "name": "ipython",
    "version": 2
   },
   "file_extension": ".py",
   "mimetype": "text/x-python",
   "name": "python",
   "nbconvert_exporter": "python",
   "pygments_lexer": "ipython2",
   "version": "2.7.6"
  }
 },
 "nbformat": 4,
 "nbformat_minor": 5
}
