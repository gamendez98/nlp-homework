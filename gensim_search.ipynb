{
 "cells": [
  {
   "metadata": {
    "ExecuteTime": {
     "end_time": "2024-08-28T01:11:36.264188Z",
     "start_time": "2024-08-28T01:11:36.261221Z"
    }
   },
   "cell_type": "code",
   "source": [
    "from pathlib import Path\n",
    "from typing import List\n",
    "\n",
    "from gensim import corpora, similarities\n",
    "from gensim.models import TfidfModel\n",
    "\n",
    "from documents import load_docs, Document"
   ],
   "id": "2ee6b98ad32c1eb5",
   "outputs": [],
   "execution_count": 8
  },
  {
   "metadata": {
    "ExecuteTime": {
     "end_time": "2024-08-28T01:11:38.513754Z",
     "start_time": "2024-08-28T01:11:36.310226Z"
    }
   },
   "cell_type": "code",
   "source": "all_docs = load_docs(Path(\"./data/docs-raw-texts\"))",
   "id": "614ae8f711af8f6d",
   "outputs": [],
   "execution_count": 9
  },
  {
   "metadata": {
    "ExecuteTime": {
     "end_time": "2024-08-28T01:11:38.531784Z",
     "start_time": "2024-08-28T01:11:38.526685Z"
    }
   },
   "cell_type": "code",
   "source": [
    "import pandas as pd\n",
    "\n",
    "\n",
    "class GensimSearch:\n",
    "    def __init__(self, docs: List[Document]):\n",
    "        self.docs = docs\n",
    "        self.dictionary = corpora.Dictionary(all_docs)\n",
    "        self.corpus = [self.dictionary.doc2bow(doc) for doc in all_docs]\n",
    "        self.model = TfidfModel(self.corpus)\n",
    "        self.index = similarities.MatrixSimilarity(self.model[self.corpus])\n",
    "        \n",
    "    def search(self, query_document: Document, min_similarity: float = 0.0):\n",
    "        query_bow = self.dictionary.doc2bow(query_document)\n",
    "        query_tfidf = self.model[query_bow]\n",
    "        sims = self.index[query_tfidf]\n",
    "        # Crear un DataFrame con los resultados de similitud\n",
    "        results = pd.DataFrame({\n",
    "            'similarity': sims,\n",
    "            'doc': self.docs\n",
    "        }, index=[doc.name for doc in self.docs])\n",
    "        \n",
    "        # Ordenar los resultados por similitud de mayor a menor\n",
    "        results.sort_values(by='similarity', ascending=False, inplace=True)\n",
    "\n",
    "        # Filtrar los resultados por similitud mínima\n",
    "        results = results[results['similarity'] > min_similarity]\n",
    "        \n",
    "        return results\n",
    "    \n",
    "    def evaluate_search(self, queries: List[Document], output_path: Path):\n",
    "        \"\"\"\n",
    "        Evalúa las consultas y escribe los resultados en un archivo de salida.\n",
    "    \n",
    "        Args:\n",
    "            queries (List[Document]): Lista de documentos de consulta para evaluar.\n",
    "            output_path (Path): Ruta del archivo donde se guardarán los resultados.\n",
    "        \"\"\"\n",
    "        with open(output_path, 'w') as output_file:\n",
    "            for query in queries:\n",
    "                relevant_docs = self.search(query_document=query)    \n",
    "                result_texts = [f'{doc_name}:{row.similarity}' for doc_name, row in relevant_docs.iterrows()]\n",
    "                output_file.write(f\"{query.name}\\t{','.join(result_texts)}\\n\")\n",
    "    "
   ],
   "id": "fff73a770f556d9d",
   "outputs": [],
   "execution_count": 10
  },
  {
   "cell_type": "code",
   "id": "initial_id",
   "metadata": {
    "collapsed": true,
    "ExecuteTime": {
     "end_time": "2024-08-28T01:11:38.887931Z",
     "start_time": "2024-08-28T01:11:38.590233Z"
    }
   },
   "source": "gensim_search = GensimSearch(all_docs)",
   "outputs": [],
   "execution_count": 11
  },
  {
   "metadata": {
    "ExecuteTime": {
     "end_time": "2024-08-28T01:11:39.078665Z",
     "start_time": "2024-08-28T01:11:38.896597Z"
    }
   },
   "cell_type": "code",
   "source": [
    "all_queries = load_docs(Path(\"./data/queries-raw-texts\"))\n",
    "gensim_search.evaluate_search(all_queries, output_path='./data/GESIM-consultas_resultados')"
   ],
   "id": "4d2b9d4456cdbd6",
   "outputs": [],
   "execution_count": 12
  }
 ],
 "metadata": {
  "kernelspec": {
   "display_name": "Python 3",
   "language": "python",
   "name": "python3"
  },
  "language_info": {
   "codemirror_mode": {
    "name": "ipython",
    "version": 2
   },
   "file_extension": ".py",
   "mimetype": "text/x-python",
   "name": "python",
   "nbconvert_exporter": "python",
   "pygments_lexer": "ipython2",
   "version": "2.7.6"
  }
 },
 "nbformat": 4,
 "nbformat_minor": 5
}
